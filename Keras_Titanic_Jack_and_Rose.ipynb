{
 "cells": [
  {
   "cell_type": "code",
   "execution_count": 1,
   "metadata": {},
   "outputs": [],
   "source": [
    "import numpy\n",
    "import pandas as pd\n",
    "from sklearn import preprocessing\n",
    "numpy.random.seed(10)"
   ]
  },
  {
   "cell_type": "code",
   "execution_count": 2,
   "metadata": {},
   "outputs": [],
   "source": [
    "all_df = pd.read_excel(\"data/titanic3.xls\")"
   ]
  },
  {
   "cell_type": "code",
   "execution_count": 3,
   "metadata": {},
   "outputs": [],
   "source": [
    "cols=['survived', 'name', 'pclass', 'sex', 'age', 'sibsp', 'parch', 'fare', 'embarked']\n",
    "all_df = all_df[cols]"
   ]
  },
  {
   "cell_type": "code",
   "execution_count": 4,
   "metadata": {},
   "outputs": [],
   "source": [
    "msk = numpy.random.rand( len(all_df) ) < 0.8\n",
    "train_df = all_df[msk]\n",
    "test_df = all_df[~msk]"
   ]
  },
  {
   "cell_type": "code",
   "execution_count": 5,
   "metadata": {},
   "outputs": [
    {
     "name": "stdout",
     "output_type": "stream",
     "text": [
      "total: 1309\n",
      "train: 1034\n",
      "test: 275\n"
     ]
    }
   ],
   "source": [
    "print('total:', len(all_df))\n",
    "print('train:', len(train_df))\n",
    "print('test:', len(test_df))"
   ]
  },
  {
   "cell_type": "code",
   "execution_count": 6,
   "metadata": {},
   "outputs": [],
   "source": [
    "# define the preprocess function  \n",
    "def preprocess_data(raw_df):\n",
    "    df = raw_df.drop( ['name'], axis=1 )\n",
    "    age_mean = df['age'].mean()\n",
    "    df['age'] = df['age'].fillna(age_mean)\n",
    "    fare_mean = df['fare'].mean()\n",
    "    df['fare'] = df['fare'].fillna(fare_mean)\n",
    "    df['sex'] = df['sex'].map( {'female':0, 'male':1} ).astype(int)\n",
    "    x_one_hot_df = pd.get_dummies( data=df, columns=[\"embarked\" ])\n",
    "    \n",
    "    nd_array = x_one_hot_df.values\n",
    "    feature = nd_array[:, 1:]\n",
    "    label = nd_array[:, 0]\n",
    "    \n",
    "    minmax_scale = preprocessing.MinMaxScaler( feature_range=(0,1) )\n",
    "    scaled_features = minmax_scale.fit_transform( feature )\n",
    "    \n",
    "    return scaled_features,label"
   ]
  },
  {
   "cell_type": "code",
   "execution_count": 7,
   "metadata": {},
   "outputs": [],
   "source": [
    "train_features, train_label = preprocess_data( train_df )\n",
    "test_features, test_label = preprocess_data( test_df )"
   ]
  },
  {
   "cell_type": "code",
   "execution_count": 8,
   "metadata": {},
   "outputs": [
    {
     "data": {
      "text/plain": [
       "array([[0.        , 0.        , 0.38844819, 0.        , 0.        ,\n",
       "        0.41250333, 0.        , 0.        , 1.        ],\n",
       "       [0.        , 1.        , 0.00679502, 0.125     , 0.22222222,\n",
       "        0.2958059 , 0.        , 0.        , 1.        ],\n",
       "       [0.        , 0.        , 0.02151711, 0.125     , 0.22222222,\n",
       "        0.2958059 , 0.        , 0.        , 1.        ],\n",
       "       [0.        , 1.        , 0.40203823, 0.125     , 0.22222222,\n",
       "        0.2958059 , 0.        , 0.        , 1.        ],\n",
       "       [0.        , 0.        , 0.33408803, 0.125     , 0.22222222,\n",
       "        0.2958059 , 0.        , 0.        , 1.        ]])"
      ]
     },
     "execution_count": 8,
     "metadata": {},
     "output_type": "execute_result"
    }
   ],
   "source": [
    "train_features[:5]"
   ]
  },
  {
   "cell_type": "code",
   "execution_count": 9,
   "metadata": {},
   "outputs": [
    {
     "data": {
      "text/plain": [
       "array([1., 1., 0., 0., 0.])"
      ]
     },
     "execution_count": 9,
     "metadata": {},
     "output_type": "execute_result"
    }
   ],
   "source": [
    "train_