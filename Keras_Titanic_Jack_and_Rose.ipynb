{
 "cells": [
  {
   "cell_type": "code",
   "execution_count": 1,
   "metadata": {},
   "outputs": [],
   "source": [
    "import numpy\n",
    "import pandas as pd\n",
    "from sklearn import preprocessing\n",
    "numpy.random.seed(10)"
   ]
  },
  {
   "cell_type": "code",
   "execution_count": 2,
   "metadata": {},
   "outputs": [],
   "source": [
    "all_df = pd.read_excel(\"data/titanic3.xls\")"
   ]
  },
  {
   "cell_type": "code",
   "execution_count": 3,
   "metadata": {},
   "outputs": [],
   "source": [
    "cols=['survived', 'name', 'pclass', 'sex', 'age', 'sibsp', 'parch', 'fare', 'embarked']\n",
    "all_df = all_df[cols]"
   ]
  },
  {
   "cell_type": "code",
   "execution_count": 4,
   "metadata": {},
   "outputs": [],
   "source": [
    "msk = numpy.random.rand( len(all_df) ) < 0.8\n",
    "train_df = all_df[msk]\n",
    "test_df = all_df[~msk]"
   ]
  },
  {
   "cell_type": "code",
   "execution_count": 5,
   "metadata": {},
   "outputs": [
    {
     "name": "stdout",
     "output_type": "stream",
     "text": [
      "total: 1309\n",
      "train: 1034\n",
      "test: 275\n"
     ]
    }
   ],
   "source": [
    "print('total:', len(all_df))\n",
    "print('train:', len(train_df))\n",
    "print('test:', len(test_df))"
   ]
  },
  {
   "cell_type": "code",
   "execution_count": 6,
   "metadata": {},
   "outputs": [],
   "source": [
    "# define the preprocess function  \n",
    "def preprocess_data(raw_df):\n",
    "    df = raw_df.drop( ['name'], axis=1 )\n",
    "    age_mean = df['age'].mean()\n",
    "    df['age'] = df['age'].fillna(age_mean)\n",
    "    fare_mean = df['fare'].mean()\n",
    "    df['fare'] = df['fare'].fillna(fare_mean)\n",
    "    df['sex'] = df['sex'].map( {'female':0, 'male':1} ).astype(int)\n",
    "    x_one_hot_df = pd.get_dummies( data=df, columns=[\"embarked\" ])\n",
    "    \n",
    "    nd_array = x_one_hot_df.values\n",
    "    feature = nd_array[:, 1:]\n",
    "    label = nd_array[:, 0]\n",
    "    \n",
    "    minmax_scale = preprocessing.MinMaxScaler( feature_range=(0,1) )\n",
    "    scaled_features = minmax_scale.fit_transform( feature )\n",
    "    \n",
    "    return scaled_features,label"
   ]
  },
  {
   "cell_type": "code",
   "execution_count": 7,
   "metadata": {},
   "outputs": [],
   "source": [
    "train_features, train_label = preprocess_data( train_df )\n",
    "test_features, test_label = preprocess_data( test_df )"
   ]
  },
  {
   "cell_type": "code",
   "execution_count": 8,
   "metadata": {},
   "outputs": [
    {
     "data": {
      "text/plain": [
       "array([[0.        , 0.        , 0.38844819, 0.        , 0.        ,\n",
       "        0.41250333, 0.        , 0.        , 1.        ],\n",
       "       [0.        , 1.        , 0.00679502, 0.125     , 0.22222222,\n",
       "        0.2958059 , 0.        , 0.        , 1.        ],\n",
       "       [0.        , 0.        , 0.02151711, 0.125     , 0.22222222,\n",
       "        0.2958059 , 0.        , 0.        , 1.        ],\n",
       "       [0.        , 1.        , 0.40203823, 0.125     , 0.22222222,\n",
       "        0.2958059 , 0.        , 0.        , 1.        ],\n",
       "       [0.        , 0.        , 0.33408803, 0.125     , 0.22222222,\n",
       "        0.2958059 , 0.        , 0.        , 1.        ]])"
      ]
     },
     "execution_count": 8,
     "metadata": {},
     "output_type": "execute_result"
    }
   ],
   "source": [
    "train_features[:5]"
   ]
  },
  {
   "cell_type": "code",
   "execution_count": 9,
   "metadata": {},
   "outputs": [
    {
     "data": {
      "text/plain": [
       "array([1., 1., 0., 0., 0.])"
      ]
     },
     "execution_count": 9,
     "metadata": {},
     "output_type": "execute_result"
    }
   ],
   "source": [
    "train_label[:5]"
   ]
  },
  {
   "cell_type": "code",
   "execution_count": 10,
   "metadata": {},
   "outputs": [
    {
     "name": "stderr",
     "output_type": "stream",
     "text": [
      "Using TensorFlow backend.\n"
     ]
    }
   ],
   "source": [
    "from keras.models import Sequential\n",
    "from keras.layers import Dense, Dropout"
   ]
  },
  {
   "cell_type": "code",
   "execution_count": 11,
   "metadata": {},
   "outputs": [
    {
     "name": "stdout",
     "output_type": "stream",
     "text": [
      "_________________________________________________________________\n",
      "Layer (type)                 Output Shape              Param #   \n",
      "=================================================================\n",
      "dense_1 (Dense)              (None, 40)                400       \n",
      "_________________________________________________________________\n",
      "dense_2 (Dense)              (None, 30)                1230      \n",
      "_________________________________________________________________\n",
      "dense_3 (Dense)              (None, 1)                 31        \n",
      "=================================================================\n",
      "Total params: 1,661\n",
      "Trainable params: 1,661\n",
      "Non-trainable params: 0\n",
      "_________________________________________________________________\n"
     ]
    }
   ],
   "source": [
    "model = Sequential()\n",
    "\n",
    "model.add( Dense(units=40, input_dim=9, kernel_initializer='uniform', activation='relu') )\n",
    "\n",
    "model.add( Dense(units=30, kernel_initializer='uniform', activation='relu') )\n",
    "\n",
    "model.add( Dense(units=1, kernel_initializer='uniform', activation='sigmoid') )\n",
    "\n",
    "model.summary()"
   ]
  },
  {
   "cell_type": "code",
   "execution_count": 12,
   "metadata": {},
   "outputs": [],
   "source": [
    "model.compile( loss='binary_crossentropy', optimizer='adam', metrics=['accuracy'] )"
   ]
  },
  {
   "cell_type": "code",
   "execution_count": 13,
   "metadata": {},
   "outputs": [
    {
     "name": "stdout",
     "output_type": "stream",
     "text": [
      "Train on 930 samples, validate on 104 samples\n",
      "Epoch 1/30\n",
      " - 2s - loss: 0.6901 - acc: 0.5774 - val_loss: 0.6713 - val_acc: 0.7885\n",
      "Epoch 2/30\n",
      " - 0s - loss: 0.6681 - acc: 0.5957 - val_loss: 0.5915 - val_acc: 0.7885\n",
      "Epoch 3/30\n",
      " - 0s - loss: 0.6101 - acc: 0.6677 - val_loss: 0.4942 - val_acc: 0.8173\n",
      "Epoch 4/30\n",
      " - 0s - loss: 0.5454 - acc: 0.7634 - val_loss: 0.4624 - val_acc: 0.7788\n",
      "Epoch 5/30\n",
      " - 0s - loss: 0.5062 - acc: 0.7624 - val_loss: 0.4552 - val_acc: 0.7885\n",
      "Epoch 6/30\n",
      " - 0s - loss: 0.4911 - acc: 0.7645 - val_loss: 0.4399 - val_acc: 0.7788\n",
      "Epoch 7/30\n",
      " - 0s - loss: 0.4823 - acc: 0.7591 - val_loss: 0.4424 - val_acc: 0.7885\n",
      "Epoch 8/30\n",
      " - 0s - loss: 0.4789 - acc: 0.7581 - val_loss: 0.4344 - val_acc: 0.7885\n",
      "Epoch 9/30\n",
      " - 0s - loss: 0.4734 - acc: 0.7645 - val_loss: 0.4274 - val_acc: 0.7885\n",
      "Epoch 10/30\n",
      " - 0s - loss: 0.4697 - acc: 0.7753 - val_loss: 0.4252 - val_acc: 0.8077\n",
      "Epoch 11/30\n",
      " - 0s - loss: 0.4657 - acc: 0.7602 - val_loss: 0.4219 - val_acc: 0.8173\n",
      "Epoch 12/30\n",
      " - 0s - loss: 0.4639 - acc: 0.7731 - val_loss: 0.4187 - val_acc: 0.8365\n",
      "Epoch 13/30\n",
      " - 0s - loss: 0.4624 - acc: 0.7806 - val_loss: 0.4184 - val_acc: 0.8365\n",
      "Epoch 14/30\n",
      " - 0s - loss: 0.4607 - acc: 0.7753 - val_loss: 0.4187 - val_acc: 0.8365\n",
      "Epoch 15/30\n",
      " - 0s - loss: 0.4627 - acc: 0.7849 - val_loss: 0.4200 - val_acc: 0.8269\n",
      "Epoch 16/30\n",
      " - 0s - loss: 0.4563 - acc: 0.7796 - val_loss: 0.4163 - val_acc: 0.8365\n",
      "Epoch 17/30\n",
      " - 0s - loss: 0.4550 - acc: 0.7882 - val_loss: 0.4163 - val_acc: 0.8365\n",
      "Epoch 18/30\n",
      " - 0s - loss: 0.4542 - acc: 0.7892 - val_loss: 0.4116 - val_acc: 0.7981\n",
      "Epoch 19/30\n",
      " - 0s - loss: 0.4537 - acc: 0.7957 - val_loss: 0.4213 - val_acc: 0.8077\n",
      "Epoch 20/30\n",
      " - 0s - loss: 0.4509 - acc: 0.7892 - val_loss: 0.4124 - val_acc: 0.8173\n",
      "Epoch 21/30\n",
      " - 0s - loss: 0.4508 - acc: 0.7914 - val_loss: 0.4128 - val_acc: 0.8077\n",
      "Epoch 22/30\n",
      " - 0s - loss: 0.4494 - acc: 0.7978 - val_loss: 0.4135 - val_acc: 0.8269\n",
      "Epoch 23/30\n",
      " - 0s - loss: 0.4523 - acc: 0.7860 - val_loss: 0.4148 - val_acc: 0.8269\n",
      "Epoch 24/30\n",
      " - 0s - loss: 0.4489 - acc: 0.7860 - val_loss: 0.4162 - val_acc: 0.8269\n",
      "Epoch 25/30\n",
      " - 0s - loss: 0.4491 - acc: 0.7914 - val_loss: 0.4194 - val_acc: 0.8269\n",
      "Epoch 26/30\n",
      " - 0s - loss: 0.4502 - acc: 0.7968 - val_loss: 0.4175 - val_acc: 0.8269\n",
      "Epoch 27/30\n",
      " - 0s - loss: 0.4460 - acc: 0.7957 - val_loss: 0.4138 - val_acc: 0.8077\n",
      "Epoch 28/30\n",
      " - 0s - loss: 0.4500 - acc: 0.7849 - val_loss: 0.4126 - val_acc: 0.8077\n",
      "Epoch 29/30\n",
      " - 0s - loss: 0.4458 - acc: 0.7935 - val_loss: 0.4169 - val_acc: 0.8269\n",
      "Epoch 30/30\n",
      " - 0s - loss: 0.4524 - acc: 0.7903 - val_loss: 0.4161 - val_acc: 0.8269\n"
     ]
    }
   ],
   "source": [
    "train_history = model.fit( x=train_features, y=train_label, validation_split=0.1, epochs=30, batch_size=30, verbose=2)"
   ]
  },
  {
   "cell_type": "code",
   "execution_count": null,
   "metadata": {},
   "outputs": [],
   "source": []
  },
  {
   "cell_type": "code",
   "execution_count": 14,
   "metadata": {},
   "outputs": [],
   "source": [
    "jack = pd.Series( [0, 'Jack', 3, 'male', 23, 1, 0, 5.0000, 'S'] )\n",
    "rose = pd.Series( [1, 'Rose', 1, 'female', 20, 1, 0, 100.0000, 'S'] )"
   ]
  },
  {
   "cell_type": "code",
   "execution_count": 16,
   "metadata": {},
   "outputs": [],
   "source": [
    "jack_rose_df = pd.DataFrame( [list(jack), list(rose)], columns=['survived', 'name', 'pclass', 'sex', 'age', 'sibsp', 'parch', 'fare', 'embarked'] )"
   ]
  },
  {
   "cell_type": "code",
   "execution_count": 17,
   "metadata": {},
   "outputs": [],
   "source": [
    "all_df = pd.concat( [all_df, jack_rose_df] )"
   ]
  },
  {
   "cell_type": "code",
   "execution_count": 18,
   "metadata": {},
   "outputs": [
    {
     "data": {
      "text/html": [
       "<div>\n",
       "<style scoped>\n",
       "    .dataframe tbody tr th:only-of-type {\n",
       "        vertical-align: middle;\n",
       "    }\n",
       "\n",
       "    .dataframe tbody tr th {\n",
       "        vertical-align: top;\n",
       "    }\n",
       "\n",
       "    .dataframe thead th {\n",
       "        text-align: right;\n",
       "    }\n",
       "</style>\n",
       "<table border=\"1\" class=\"dataframe\">\n",
       "  <thead>\n",
       "    <tr style=\"text-align: right;\">\n",
       "      <th></th>\n",
       "      <th>survived</th>\n",
       "      <th>name</th>\n",
       "      <th>pclass</th>\n",
       "      <th>sex</th>\n",
       "      <th>age</th>\n",
       "      <th>sibsp</th>\n",
       "      <th>parch</th>\n",
       "      <th>fare</th>\n",
       "      <th>embarked</th>\n",
       "    </tr>\n",
       "  </thead>\n",
       "  <tbody>\n",
       "    <tr>\n",
       "      <th>0</th>\n",
       "      <td>0</td>\n",
       "      <td>Jack</td>\n",
       "      <td>3</td>\n",
       "      <td>male</td>\n",
       "      <td>23.0</td>\n",
       "      <td>1</td>\n",
       "      <td>0</td>\n",
       "      <td>5.0</td>\n",
       "      <td>S</td>\n",
       "    </tr>\n",
       "    <tr>\n",
       "      <th>1</th>\n",
       "      <td>1</td>\n",
       "      <td>Rose</td>\n",
       "      <td>1</td>\n",
       "      <td>female</td>\n",
       "      <td>20.0</td>\n",
       "      <td>1</td>\n",
       "      <td>0</td>\n",
       "      <td>100.0</td>\n",
       "      <td>S</td>\n",
       "    </tr>\n",
       "  </tbody>\n",
       "</table>\n",
       "</div>"
      ],
      "text/plain": [
       "   survived  name  pclass     sex   age  sibsp  parch   fare embarked\n",
       "0         0  Jack       3    male  23.0      1      0    5.0        S\n",
       "1         1  Rose       1  female  20.0      1      0  100.0        S"
      ]
     },
     "execution_count": 18,
     "metadata": {},
     "output_type": "execute_result"
    }
   ],
   "source": [
    "all_df[-2:]"
   ]
  },
  {
   "cell_type": "code",
   "execution_count": 19,
   "metadata": {},
   "outputs": [
    {
     "data": {
      "text/html": [
       "<div>\n",
       "<style scoped>\n",
       "    .dataframe tbody tr th:only-of-type {\n",
       "        vertical-align: middle;\n",
       "    }\n",
       "\n",
       "    .dataframe tbody tr th {\n",
       "        vertical-align: top;\n",
       "    }\n",
       "\n",
       "    .dataframe thead th {\n",
       "        text-align: right;\n",
       "    }\n",
       "</style>\n",
       "<table border=\"1\" class=\"dataframe\">\n",
       "  <thead>\n",
       "    <tr style=\"text-align: right;\">\n",
       "      <th></th>\n",
       "      <th>survived</th>\n",
       "      <th>name</th>\n",
       "      <th>pclass</th>\n",
       "      <th>sex</th>\n",
       "      <th>age</th>\n",
       "      <th>sibsp</th>\n",
       "      <th>parch</th>\n",
       "      <th>fare</th>\n",
       "      <th>embarked</th>\n",
       "    </tr>\n",
       "  </thead>\n",
       "  <tbody>\n",
       "    <tr>\n",
       "      <th>1306</th>\n",
       "      <td>0</td>\n",
       "      <td>Zakarian, Mr. Mapriededer</td>\n",
       "      <td>3</td>\n",
       "      <td>male</td>\n",
       "      <td>26.5</td>\n",
       "      <td>0</td>\n",
       "      <td>0</td>\n",
       "      <td>7.225</td>\n",
       "      <td>C</td>\n",
       "    </tr>\n",
       "    <tr>\n",
       "      <th>1307</th>\n",
       "      <td>0</td>\n",
       "      <td>Zakarian, Mr. Ortin</td>\n",
       "      <td>3</td>\n",
       "      <td>male</td>\n",
       "      <td>27.0</td>\n",
       "      <td>0</td>\n",
       "      <td>0</td>\n",
       "      <td>7.225</td>\n",
       "      <td>C</td>\n",
       "    </tr>\n",
       "    <tr>\n",
       "      <th>1308</th>\n",
       "      <td>0</td>\n",
       "      <td>Zimmerman, Mr. Leo</td>\n",
       "      <td>3</td>\n",
       "      <td>male</td>\n",
       "      <td>29.0</td>\n",
       "      <td>0</td>\n",
       "      <td>0</td>\n",
       "      <td>7.875</td>\n",
       "      <td>S</td>\n",
       "    </tr>\n",
       "    <tr>\n",
       "      <th>0</th>\n",
       "      <td>0</td>\n",
       "      <td>Jack</td>\n",
       "      <td>3</td>\n",
       "      <td>male</td>\n",
       "      <td>23.0</td>\n",
       "      <td>1</td>\n",
       "      <td>0</td>\n",
       "      <td>5.000</td>\n",
       "      <td>S</td>\n",
       "    </tr>\n",
       "    <tr>\n",
       "      <th>1</th>\n",
       "      <td>1</td>\n",
       "      <td>Rose</td>\n",
       "      <td>1</td>\n",
       "      <td>female</td>\n",
       "      <td>20.0</td>\n",
       "      <td>1</td>\n",
       "      <td>0</td>\n",
       "      <td>100.000</td>\n",
       "      <td>S</td>\n",
       "    </tr>\n",
       "  </tbody>\n",
       "</table>\n",
       "</div>"
      ],
      "text/plain": [
       "      survived                       name  pclass     sex   age  sibsp  parch  \\\n",
       "1306         0  Zakarian, Mr. Mapriededer       3    male  26.5      0      0   \n",
       "1307         0        Zakarian, Mr. Ortin       3    male  27.0      0      0   \n",
       "1308         0         Zimmerman, Mr. Leo       3    male  29.0      0      0   \n",
       "0            0                       Jack       3    male  23.0      1      0   \n",
       "1            1                       Rose       1  female  20.0      1      0   \n",
       "\n",
       "         fare embarked  \n",
       "1306    7.225        C  \n",
       "1307    7.225        C  \n",
       "1308    7.875        S  \n",
       "0       5.000        S  \n",
       "1     100.000        S  "
      ]
     },
     "execution_count": 19,
     "metadata": {},
     "output_type": "execute_result"
    }
   ],
   "source": [
    "all_df[-5:]"
   ]
  },
  {
   "cell_type": "code",
   "execution_count": 20,
   "metadata": {},
   "outputs": [],
   "source": [
    "all_feature, label = preprocess_data(all_df)"
   ]
  },
  {
   "cell_type": "code",
   "execution_count": 21,
   "metadata": {},
   "outputs": [],
   "source": [
    "all_probability = model.predict(all_feature)"
   ]
  },
  {
   "cell_type": "code",
   "execution_count": 22,
   "metadata": {},
   "outputs": [
    {
     "data": {
      "text/plain": [
       "array([[0.97696316],\n",
       "       [0.609896  ],\n",
       "       [0.9721666 ],\n",
       "       [0.40561366],\n",
       "       [0.97113806],\n",
       "       [0.2749112 ],\n",
       "       [0.9495579 ],\n",
       "       [0.32654467],\n",
       "       [0.94781196],\n",
       "       [0.29248822]], dtype=float32)"
      ]
     },
     "execution_count": 22,
     "metadata": {},
     "output_type": "execute_result"
    }
   ],
   "source": [
    "all_probability[:10]"
   ]
  },
  {
   "cell_type": "code",
   "execution_count": 23,
   "metadata": {},
   "outputs": [],
   "source": [
    "pd = all_df\n",
    "pd.insert( len(all_df.columns), 'probability', all_probability)"
   ]
  },
  {
   "cell_type": "code",
   "execution_count": 24,
   "metadata": {},
   "outputs": [
    {
     "data": {
      "text/html": [
       "<div>\n",
       "<style scoped>\n",
       "    .dataframe tbody tr th:only-of-type {\n",
       "        vertical-align: middle;\n",
       "    }\n",
       "\n",
       "    .dataframe tbody tr th {\n",
       "        vertical-align: top;\n",
       "    }\n",
       "\n",
       "    .dataframe thead th {\n",
       "        text-align: right;\n",
       "    }\n",
       "</style>\n",
       "<table border=\"1\" class=\"dataframe\">\n",
       "  <thead>\n",
       "    <tr style=\"text-align: right;\">\n",
       "      <th></th>\n",
       "      <th>survived</th>\n",
       "      <th>name</th>\n",
       "      <th>pclass</th>\n",
       "      <th>sex</th>\n",
       "      <th>age</th>\n",
       "      <th>sibsp</th>\n",
       "      <th>parch</th>\n",
       "      <th>fare</th>\n",
       "      <th>embarked</th>\n",
       "      <th>probability</th>\n",
       "    </tr>\n",
       "  </thead>\n",
       "  <tbody>\n",
       "    <tr>\n",
       "      <th>1306</th>\n",
       "      <td>0</td>\n",
       "      <td>Zakarian, Mr. Mapriededer</td>\n",
       "      <td>3</td>\n",
       "      <td>male</td>\n",
       "      <td>26.5</td>\n",
       "      <td>0</td>\n",
       "      <td>0</td>\n",
       "      <td>7.225</td>\n",
       "      <td>C</td>\n",
       "      <td>0.244171</td>\n",
       "    </tr>\n",
       "    <tr>\n",
       "      <th>1307</th>\n",
       "      <td>0</td>\n",
       "      <td>Zakarian, Mr. Ortin</td>\n",
       "      <td>3</td>\n",
       "      <td>male</td>\n",
       "      <td>27.0</td>\n",
       "      <td>0</td>\n",
       "      <td>0</td>\n",
       "      <td>7.225</td>\n",
       "      <td>C</td>\n",
       "      <td>0.241578</td>\n",
       "    </tr>\n",
       "    <tr>\n",
       "      <th>1308</th>\n",
       "      <td>0</td>\n",
       "      <td>Zimmerman, Mr. Leo</td>\n",
       "      <td>3</td>\n",
       "      <td>male</td>\n",
       "      <td>29.0</td>\n",
       "      <td>0</td>\n",
       "      <td>0</td>\n",
       "      <td>7.875</td>\n",
       "      <td>S</td>\n",
       "      <td>0.144389</td>\n",
       "    </tr>\n",
       "    <tr>\n",
       "      <th>0</th>\n",
       "      <td>0</td>\n",
       "      <td>Jack</td>\n",
       "      <td>3</td>\n",
       "      <td>male</td>\n",
       "      <td>23.0</td>\n",
       "      <td>1</td>\n",
       "      <td>0</td>\n",
       "      <td>5.000</td>\n",
       "      <td>S</td>\n",
       "      <td>0.150749</td>\n",
       "    </tr>\n",
       "    <tr>\n",
       "      <th>1</th>\n",
       "      <td>1</td>\n",
       "      <td>Rose</td>\n",
       "      <td>1</td>\n",
       "      <td>female</td>\n",
       "      <td>20.0</td>\n",
       "      <td>1</td>\n",
       "      <td>0</td>\n",
       "      <td>100.000</td>\n",
       "      <td>S</td>\n",
       "      <td>0.969594</td>\n",
       "    </tr>\n",
       "  </tbody>\n",
       "</table>\n",
       "</div>"
      ],
      "text/plain": [
       "      survived                       name  pclass     sex   age  sibsp  parch  \\\n",
       "1306         0  Zakarian, Mr. Mapriededer       3    male  26.5      0      0   \n",
       "1307         0        Zakarian, Mr. Ortin       3    male  27.0      0      0   \n",
       "1308         0         Zimmerman, Mr. Leo       3    male  29.0      0      0   \n",
       "0            0                       Jack       3    male  23.0      1      0   \n",
       "1            1                       Rose       1  female  20.0      1      0   \n",
       "\n",
       "         fare embarked  probability  \n",
       "1306    7.225        C     0.244171  \n",
       "1307    7.225        C     0.241578  \n",
       "1308    7.875        S     0.144389  \n",
       "0       5.000        S     0.150749  \n",
       "1     100.000        S     0.969594  "
      ]
     },
     "execution_count": 24,
     "metadata": {},
     "output_type": "execute_result"
    }
   ],
   "source": [
    "pd[-5:]"
   ]
  },
  {
   "cell_type": "code",
   "execution_count": 25,
   "metadata": {},
   "outputs": [
    {
     "data": {
      "text/html": [
       "<div>\n",
       "<style scoped>\n",
       "    .dataframe tbody tr th:only-of-type {\n",
       "        vertical-align: middle;\n",
       "    }\n",
       "\n",
       "    .dataframe tbody tr th {\n",
       "        vertical-align: top;\n",
       "    }\n",
       "\n",
       "    .dataframe thead th {\n",
       "        text-align: right;\n",
       "    }\n",
       "</style>\n",
       "<table border=\"1\" class=\"dataframe\">\n",
       "  <thead>\n",
       "    <tr style=\"text-align: right;\">\n",
       "      <th></th>\n",
       "      <th>survived</th>\n",
 