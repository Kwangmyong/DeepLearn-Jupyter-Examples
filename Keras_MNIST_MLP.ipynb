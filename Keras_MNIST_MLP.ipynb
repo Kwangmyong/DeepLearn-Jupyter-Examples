
{
 "cells": [
  {
   "cell_type": "code",
   "execution_count": 164,
   "metadata": {},
   "outputs": [],
   "source": [
    "import numpy as np\n",
    "np.random.seed(10)"
   ]
  },
  {
   "cell_type": "code",
   "execution_count": 165,
   "metadata": {},
   "outputs": [],
   "source": [
    "from keras.utils import np_utils"
   ]
  },
  {
   "cell_type": "code",
   "execution_count": 166,
   "metadata": {},
   "outputs": [],
   "source": [
    "from keras.datasets import mnist"
   ]
  },
  {
   "cell_type": "code",
   "execution_count": 167,
   "metadata": {},
   "outputs": [],
   "source": [
    "(x_train_image, y_train_label), (x_test_image, y_test_label) = mnist.load_data()"
   ]
  },
  {
   "cell_type": "code",
   "execution_count": 168,
   "metadata": {},
   "outputs": [
    {
     "name": "stdout",
     "output_type": "stream",
     "text": [
      "shape of train image= (60000, 28, 28)\n",
      "shape of test image= (10000, 28, 28)\n"
     ]
    }
   ],
   "source": [
    "print('shape of train image=', x_train_image.shape)\n",
    "print('shape of test image=', x_test_image.shape)"
   ]
  },
  {
   "cell_type": "code",
   "execution_count": 169,
   "metadata": {},
   "outputs": [],
   "source": [
    "reshape_dim = 28 * 28\n",
    "x_train_reshaped = x_train_image.reshape(60000, reshape_dim).astype('float32')\n",
    "x_test_reshaped = x_test_image.reshape(10000, reshape_dim).astype('float32')"
   ]
  },
  {
   "cell_type": "code",
   "execution_count": 170,
   "metadata": {},
   "outputs": [],
   "source": [
    "x_train_normalized = x_train_reshaped / 255\n",
    "x_test_normalized = x_test_reshaped / 255"
   ]
  },
  {
   "cell_type": "code",
   "execution_count": 171,
   "metadata": {},
   "outputs": [
    {
     "name": "stdout",
     "output_type": "stream",
     "text": [
      "[5 0 4 1 9]\n",
      "[7 2 1 0 4]\n"
     ]
    }
   ],
   "source": [
    "print(y_train_label[:5])\n",
    "print(y_test_label[:5])"
   ]
  },
  {
   "cell_type": "code",
   "execution_count": 172,
   "metadata": {},
   "outputs": [],
   "source": [
    "y_train_oneHotEncoding = np_utils.to_categorical(y_train_label)\n",
    "y_test_oneHotEncoding = np_utils.to_categorical(y_test_label)"
   ]
  },
  {
   "cell_type": "code",
   "execution_count": 173,
   "metadata": {},
   "outputs": [
    {
     "name": "stdout",
     "output_type": "stream",
     "text": [
      "[[0. 0. 0. 0. 0. 1. 0. 0. 0. 0.]\n",
      " [1. 0. 0. 0. 0. 0. 0. 0. 0. 0.]\n",
      " [0. 0. 0. 0. 1. 0. 0. 0. 0. 0.]\n",
      " [0. 1. 0. 0. 0. 0. 0. 0. 0. 0.]\n",
      " [0. 0. 0. 0. 0. 0. 0. 0. 0. 1.]]\n",
      "[[0. 0. 0. 0. 0. 0. 0. 1. 0. 0.]\n",
      " [0. 0. 1. 0. 0. 0. 0. 0. 0. 0.]\n",
      " [0. 1. 0. 0. 0. 0. 0. 0. 0. 0.]\n",
      " [1. 0. 0. 0. 0. 0. 0. 0. 0. 0.]\n",
      " [0. 0. 0. 0. 1. 0. 0. 0. 0. 0.]]\n"
     ]
    }
   ],
   "source": [
    "print(y_train_oneHotEncoding[:5])\n",
    "print(y_test_oneHotEncoding[:5])"
   ]
  },
  {
   "cell_type": "code",
   "execution_count": 174,
   "metadata": {},
   "outputs": [
    {
     "name": "stdout",
     "output_type": "stream",
     "text": [
      "(60000, 784)\n",
      "(60000, 10)\n"
     ]
    }
   ],
   "source": [
    "print(x_train_normalized.shape)\n",
    "print(y_train_oneHotEncoding.shape)"
   ]
  },
  {
   "cell_type": "code",
   "execution_count": 175,
   "metadata": {},
   "outputs": [],
   "source": [
    "from keras.models import Sequential\n",
    "from keras.layers import Dense"
   ]
  },
  {
   "cell_type": "code",
   "execution_count": 176,
   "metadata": {},
   "outputs": [],
   "source": [
    "from keras.layers import Dropout"
   ]
  },
  {
   "cell_type": "code",
   "execution_count": 177,
   "metadata": {},
   "outputs": [],
   "source": [
    "model = Sequential()"
   ]
  },
  {
   "cell_type": "code",
   "execution_count": 178,
   "metadata": {},
   "outputs": [],
   "source": [
    "model.add( Dense(units=512, input_dim=784, kernel_initializer='normal', activation='relu') )\n",
    "model.add( Dropout(0.5))"
   ]
  },
  {
   "cell_type": "code",
   "execution_count": 179,
   "metadata": {},
   "outputs": [],
   "source": [
    "model.add( Dense(units=128, input_dim=784, kernel_initializer='normal', activation='relu') )\n",
    "model.add( Dropout(0.5))"
   ]
  },
  {
   "cell_type": "code",
   "execution_count": 180,
   "metadata": {},
   "outputs": [],
   "source": [
    "model.add( Dense(units=10, kernel_initializer='normal', activation='softmax') )"
   ]
  },
  {
   "cell_type": "code",
   "execution_count": 181,
   "metadata": {},
   "outputs": [
    {
     "name": "stdout",
     "output_type": "stream",
     "text": [
      "_________________________________________________________________\n",
      "Layer (type)                 Output Shape              Param #   \n",
      "=================================================================\n",
      "dense_45 (Dense)             (None, 512)               401920    \n",
      "_________________________________________________________________\n",
      "dropout_29 (Dropout)         (None, 512)               0         \n",
      "_________________________________________________________________\n",
      "dense_46 (Dense)             (None, 128)               65664     \n",
      "_________________________________________________________________\n",
      "dropout_30 (Dropout)         (None, 128)               0         \n",
      "_________________________________________________________________\n",
      "dense_47 (Dense)             (None, 10)                1290      \n",
      "=================================================================\n",
      "Total params: 468,874\n",
      "Trainable params: 468,874\n",
      "Non-trainable params: 0\n",
      "_________________________________________________________________\n",
      "None\n"
     ]
    }
   ],
   "source": [
    "print( model.summary() )"
   ]
  },
  {
   "cell_type": "code",
   "execution_count": 182,
   "metadata": {},
   "outputs": [],
   "source": [
    "model.compile( loss='categorical_crossentropy', optimizer= 'adam', metrics=['accuracy'])"
   ]
  },
  {
   "cell_type": "code",
   "execution_count": 183,
   "metadata": {},
   "outputs": [
    {
     "name": "stdout",
     "output_type": "stream",
     "text": [
      "Train on 48000 samples, validate on 12000 samples\n",
      "Epoch 1/10\n",
      " - 6s - loss: 0.4223 - acc: 0.8714 - val_loss: 0.1431 - val_acc: 0.9567\n",
      "Epoch 2/10\n",
      " - 5s - loss: 0.1973 - acc: 0.9421 - val_loss: 0.1063 - val_acc: 0.9695\n",
      "Epoch 3/10\n",
      " - 5s - loss: 0.1534 - acc: 0.9560 - val_loss: 0.0937 - val_acc: 0.9722\n",
      "Epoch 4/10\n",
      " - 5s - loss: 0.1328 - acc: 0.9607 - val_loss: 0.0951 - val_acc: 0.9711\n",
      "Epoch 5/10\n",
      " - 5s - loss: 0.1167 - acc: 0.9649 - val_loss: 0.0887 - val_acc: 0.9740\n",
      "Epoch 6/10\n",
      " - 5s - loss: 0.1062 - acc: 0.9679 - val_loss: 0.0839 - val_acc: 0.9762\n",
      "Epoch 7/10\n",
      " - 5s - loss: 0.0966 - acc: 0.9708 - val_loss: 0.0767 - val_acc: 0.9782\n",
      "Epoch 8/10\n",
      " - 5s - loss: 0.0943 - acc: 0.9710 - val_loss: 0.0847 - val_acc: 0.9754\n",
      "Epoch 9/10\n",
      " - 5s - loss: 0.0873 - acc: 0.9737 - val_loss: 0.0851 - val_acc: 0.9769\n",
      "Epoch 10/10\n",
      " - 5s - loss: 0.0839 - acc: 0.9739 - val_loss: 0.0815 - val_acc: 0.9788\n"
     ]
    }
   ],
   "source": [
    "train_history = model.fit( x=x_train_normalized, y=y_train_oneHotEncoding, validation_split=0.2, epochs=10, batch_size=50, verbose=2)\n",
    "# note: verbose=2 means to show the training process"
   ]
  },
  {
   "cell_type": "code",
   "execution_count": 186,
   "metadata": {},
   "outputs": [],
   "source": [
    "import matplotlib.pyplot as pyplot\n",
    "def my_show_train_history(input_train_history, input_train, input_validation):\n",
    "    pyplot.plot(input_train_history.history[input_train] )\n",
    "    pyplot.plot(input_train_history.history[input_validation])\n",
    "    pyplot.title('Train History')\n",
    "    pyplot.ylabel(input_train)\n",
    "    # pyplot.ylabel('Accuracy')\n",
    "    pyplot.xlabel('Epoch')\n",
    "    pyplot.legend(['my_train','my_validation'], loc='upper left')\n",
    "    pyplot.show()"
   ]
  },
  {
   "cell_type": "code",
   "execution_count": 187,
   "metadata": {},
   "outputs": [
    {
     "data": {
      "image/png": "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\n",
      "text/plain": [
       "<Figure size 432x288 with 1 Axes>"
      ]
     },
     "metadata": {
      "needs_background": "light"
     },
     "output_type": "display_data"
    }
   ],
   "source": [
    "my_show_train_history(train_history, 'acc', 'val_acc')"
   ]
  },
  {
   "cell_type": "code",
   "execution_count": 188,
   "metadata": {},
   "outputs": [
    {
     "data": {
      "image/png": "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\n",
      "text/plain": [
       "<Figure size 432x288 with 1 Axes>"
      ]
     },
     "metadata": {
      "needs_background": "light"
     },
     "output_type": "display_data"
    }
   ],
   "source": [
    "my_show_train_history(train_history, 'loss', 'val_loss')"
   ]
  },
  {
   "cell_type": "code",
   "execution_count": 189,
   "metadata": {},
   "outputs": [
    {
     "name": "stdout",
     "output_type": "stream",
     "text": [
      "10000/10000 [==============================] - 1s 67us/step\n",
      "[0.0717360016580904, 0.9798]\n",
      "accuracy= 0.9798\n"
     ]
    }
   ],
   "source": [
    "# after training (and validation), then using public test_data for evaluation \n",
    "scores = model.evaluate(x_test_normalized, y_test_oneHotEncoding)\n",
    "print(scores)\n",
    "print('accuracy=', scores[1])"
   ]
  },
  {
   "cell_type": "code",
   "execution_count": 190,
   "metadata": {},
   "outputs": [],
   "source": [
    "prediction = model.predict_classes(x_test_normalized)"
   ]
  },
  {
   "cell_type": "code",
   "execution_count": 191,
   "metadata": {},
   "outputs": [
    {
     "data": {
      "text/plain": [
       "array([7, 2, 1, ..., 4, 5, 6], dtype=int64)"
      ]
     },
     "execution_count": 191,
     "metadata": {},
     "output_type": "execute_result"
    }
   ],
   "source": [
    "prediction"
   ]