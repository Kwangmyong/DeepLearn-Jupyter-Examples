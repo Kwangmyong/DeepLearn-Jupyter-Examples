
{
 "cells": [
  {
   "cell_type": "code",
   "execution_count": 23,
   "metadata": {},
   "outputs": [],
   "source": [
    "import numpy as np\n",
    "np.random.seed(10)"
   ]
  },
  {
   "cell_type": "code",
   "execution_count": 24,
   "metadata": {},
   "outputs": [],
   "source": [
    "from keras.utils import np_utils"
   ]
  },
  {
   "cell_type": "code",
   "execution_count": 25,
   "metadata": {},
   "outputs": [],
   "source": [
    "from keras.datasets import mnist"
   ]
  },
  {
   "cell_type": "code",
   "execution_count": 26,
   "metadata": {},
   "outputs": [],
   "source": [
    "(x_train, y_train), (x_test, y_test) = mnist.load_data()"
   ]
  },
  {
   "cell_type": "code",
   "execution_count": 27,
   "metadata": {},
   "outputs": [
    {
     "name": "stdout",
     "output_type": "stream",
     "text": [
      "(60000, 28, 28)\n",
      "(10000, 28, 28)\n"
     ]
    }
   ],
   "source": [
    "print(x_train.shape)\n",
    "print(x_test.shape)"
   ]
  },
  {
   "cell_type": "code",
   "execution_count": 28,
   "metadata": {},
   "outputs": [],
   "source": [
    "x_train_4D = x_train.reshape(x_train.shape[0], 28, 28, 1).astype('float32')\n",
    "x_test_4D = x_test.reshape(x_test.shape[0], 28, 28, 1).astype('float32')"
   ]
  },
  {
   "cell_type": "code",
   "execution_count": 29,
   "metadata": {},
   "outputs": [
    {
     "name": "stdout",
     "output_type": "stream",
     "text": [
      "(60000, 28, 28, 1)\n",
      "(10000, 28, 28, 1)\n"
     ]
    }
   ],
   "source": [
    "print(x_train_4D.shape)\n",
    "print(x_test_4D.shape)"
   ]
  },
  {
   "cell_type": "code",
   "execution_count": 30,
   "metadata": {},
   "outputs": [],
   "source": [
    "x_train_4D_normalized = x_train_4D / 255\n",
    "x_test_4D_normalized = x_test_4D / 255"
   ]
  },
  {
   "cell_type": "code",
   "execution_count": 31,
   "metadata": {},
   "outputs": [
    {
     "name": "stdout",
     "output_type": "stream",
     "text": [
      "[5 0 4 1 9]\n",
      "[7 2 1 0 4]\n"
     ]
    }
   ],
   "source": [
    "print(y_train[0:5])\n",
    "print(y_test[0:5])"
   ]
  },
  {
   "cell_type": "code",
   "execution_count": 32,
   "metadata": {},
   "outputs": [],
   "source": [
    "y_train_oneHotEncoding = np_utils.to_categorical(y_train)\n",
    "y_test_oneHotEncoding = np_utils.to_categorical(y_test)"
   ]
  },
  {
   "cell_type": "code",
   "execution_count": 33,
   "metadata": {},
   "outputs": [
    {
     "name": "stdout",
     "output_type": "stream",
     "text": [
      "[[0. 0. 0. 0. 0. 1. 0. 0. 0. 0.]\n",
      " [1. 0. 0. 0. 0. 0. 0. 0. 0. 0.]\n",
      " [0. 0. 0. 0. 1. 0. 0. 0. 0. 0.]\n",
      " [0. 1. 0. 0. 0. 0. 0. 0. 0. 0.]\n",
      " [0. 0. 0. 0. 0. 0. 0. 0. 0. 1.]]\n",
      "[[0. 0. 0. 0. 0. 0. 0. 1. 0. 0.]\n",
      " [0. 0. 1. 0. 0. 0. 0. 0. 0. 0.]\n",
      " [0. 1. 0. 0. 0. 0. 0. 0. 0. 0.]\n",
      " [1. 0. 0. 0. 0. 0. 0. 0. 0. 0.]\n",
      " [0. 0. 0. 0. 1. 0. 0. 0. 0. 0.]]\n"
     ]
    }
   ],
   "source": [
    "print(y_train_oneHotEncoding[0:5])\n",
    "print(y_test_oneHotEncoding[0:5])"
   ]
  },
  {
   "cell_type": "code",
   "execution_count": 34,
   "metadata": {},
   "outputs": [],
   "source": [
    "from keras.models import Sequential\n",
    "from keras.layers import Dense,Dropout,Flatten,Conv2D,MaxPooling2D"
   ]
  },
  {
   "cell_type": "code",
   "execution_count": 35,
   "metadata": {},
   "outputs": [],
   "source": [
    "model = Sequential()"
   ]
  },
  {
   "cell_type": "code",
   "execution_count": 36,
   "metadata": {},
   "outputs": [],
   "source": [
    "model.add( Conv2D(filters=16, kernel_size=(5,5), padding='same', input_shape=(28,28,1), activation='relu') )"
   ]
  },
  {
   "cell_type": "code",
   "execution_count": 37,
   "metadata": {},
   "outputs": [],
   "source": [
    "model.add( MaxPooling2D( pool_size=(2,2) ) )"
   ]
  },
  {
   "cell_type": "code",
   "execution_count": 38,
   "metadata": {},
   "outputs": [],
   "source": [
    "model.add( Conv2D(filters=36, kernel_size=(5,5), padding='same', activation='relu' ) )"
   ]
  },
  {
   "cell_type": "code",
   "execution_count": 39,
   "metadata": {},
   "outputs": [],
   "source": [
    "model.add( MaxPooling2D( pool_size=(2,2) ) )"
   ]
  },
  {
   "cell_type": "code",
   "execution_count": 40,
   "metadata": {},
   "outputs": [],
   "source": [
    "model.add( Dropout(0.25) )"
   ]
  },
  {
   "cell_type": "code",
   "execution_count": 41,
   "metadata": {},
   "outputs": [
    {
     "name": "stdout",
     "output_type": "stream",
     "text": [
      "_________________________________________________________________\n",
      "Layer (type)                 Output Shape              Param #   \n",
      "=================================================================\n",
      "conv2d_3 (Conv2D)            (None, 28, 28, 16)        416       \n",
      "_________________________________________________________________\n",
      "max_pooling2d_3 (MaxPooling2 (None, 14, 14, 16)        0         \n",
      "_________________________________________________________________\n",
      "conv2d_4 (Conv2D)            (None, 14, 14, 36)        14436     \n",
      "_________________________________________________________________\n",
      "max_pooling2d_4 (MaxPooling2 (None, 7, 7, 36)          0         \n",
      "_________________________________________________________________\n",
      "dropout_3 (Dropout)          (None, 7, 7, 36)          0         \n",
      "=================================================================\n",
      "Total params: 14,852\n",
      "Trainable params: 14,852\n",
      "Non-trainable params: 0\n",
      "_________________________________________________________________\n",
      "None\n"
     ]
    }
   ],
   "source": [
    "print( model.summary() )"
   ]
  },
  {
   "cell_type": "code",
   "execution_count": 42,
   "metadata": {},
   "outputs": [],
   "source": [
    "model.add( Flatten() )"
   ]
  },
  {
   "cell_type": "code",
   "execution_count": 43,
   "metadata": {},
   "outputs": [],
   "source": [
    "model.add( Dense(128, activation='relu') )"
   ]
  },
  {
   "cell_type": "code",
   "execution_count": 44,
   "metadata": {},
   "outputs": [],
   "source": [
    "model.add( Dense(10, activation='softmax') )"
   ]
  },
  {
   "cell_type": "code",
   "execution_count": 45,
   "metadata": {
    "scrolled": true
   },
   "outputs": [
    {
     "name": "stdout",
     "output_type": "stream",
     "text": [
      "_________________________________________________________________\n",
      "Layer (type)                 Output Shape              Param #   \n",
      "=================================================================\n",
      "conv2d_3 (Conv2D)            (None, 28, 28, 16)        416       \n",
      "_________________________________________________________________\n",
      "max_pooling2d_3 (MaxPooling2 (None, 14, 14, 16)        0         \n",
      "_________________________________________________________________\n",
      "conv2d_4 (Conv2D)            (None, 14, 14, 36)        14436     \n",
      "_________________________________________________________________\n",
      "max_pooling2d_4 (MaxPooling2 (None, 7, 7, 36)          0         \n",
      "_________________________________________________________________\n",
      "dropout_3 (Dropout)          (None, 7, 7, 36)          0         \n",
      "_________________________________________________________________\n",
      "flatten_3 (Flatten)          (None, 1764)              0         \n",
      "_________________________________________________________________\n",
      "dense_1 (Dense)              (None, 128)               225920    \n",
      "_________________________________________________________________\n",
      "dense_2 (Dense)              (None, 10)                1290      \n",
      "=================================================================\n",
      "Total params: 242,062\n",
      "Trainable params: 242,062\n",
      "Non-trainable params: 0\n",
      "_________________________________________________________________\n",
      "None\n"
     ]
    }
   ],
   "source": [
    "print( model.summary() )"
   ]
  },
  {
   "cell_type": "code",
   "execution_count": 46,
   "metadata": {},
   "outputs": [],
   "source": [
    "model.compile( loss='categorical_crossentropy', optimizer='adam', metrics=['accuracy'])"
   ]
  },
  {
   "cell_type": "code",
   "execution_count": 50,
   "metadata": {},
   "outputs": [
    {
     "name": "stdout",
     "output_type": "stream",
     "text": [
      "Train on 48000 samples, validate on 12000 samples\n",
      "Epoch 1/10\n",
      " - 2s - loss: 0.0045 - acc: 0.9984 - val_loss: 0.0342 - val_acc: 0.9920\n",
      "Epoch 2/10\n",
      " - 2s - loss: 0.0046 - acc: 0.9982 - val_loss: 0.0364 - val_acc: 0.9920\n",
      "Epoch 3/10\n",
      " - 2s - loss: 0.0046 - acc: 0.9985 - val_loss: 0.0332 - val_acc: 0.9930\n",
      "Epoch 4/10\n",
      " - 2s - loss: 0.0033 - acc: 0.9990 - val_loss: 0.0332 - val_acc: 0.9927\n",
      "Epoch 5/10\n",
      " - 2s - loss: 0.0031 - acc: 0.9991 - val_loss: 0.0367 - val_acc: 0.9920\n",
      "Epoch 6/10\n",
      " - 2s - loss: 0.0039 - acc: 0.9986 - val_loss: 0.0322 - val_acc: 0.9929\n",
      "Epoch 7/10\n",
      " - 2s - loss: 0.0039 - acc: 0.9987 - val_loss: 0.0338 - val_acc: 0.9928\n",
      "Epoch 8/10\n",
      " - 2s - loss: 0.0041 - acc: 0.9987 - val_loss: 0.0399 - val_acc: 0.9917\n",
      "Epoch 9/10\n",
      " - 2s - loss: 0.0031 - acc: 0.9990 - val_loss: 0.0320 - val_acc: 0.9935\n",
      "Epoch 10/10\n",
      " - 2s - loss: 0.0026 - acc: 0.9990 - val_loss: 0.0351 - val_acc: 0.9922\n"
     ]
    }
   ],
   "source": [
    "train_history = model.fit( x = x_train_4D_normalized, \n",
    "                           y = y_train_oneHotEncoding, \n",
    "                          validation_split = 0.2, \n",
    "                          epochs = 10, batch_size = 500, \n",
    "                          verbose = 2)"
   ]
  },
  {
   "cell_type": "code",
   "execution_count": 51,
   "metadata": {},
   "outputs": [],
   "source": [
    "import matplotlib.pyplot as pyplot\n",
    "def my_show_train_history(input_train_history, input_train, input_validation):\n",
    "    pyplot.plot(input_train_history.history[input_train] )\n",
    "    pyplot.plot(input_train_history.history[input_validation])\n",
    "    pyplot.title('Train History')\n",
    "    pyplot.ylabel(input_train)\n",
    "    # pyplot.ylabel('Accuracy')\n",
    "    pyplot.xlabel('Epoch')\n",
    "    pyplot.legend(['my_train','my_validation'], loc='upper left')\n",
    "    pyplot.show()"
   ]
  },
  {
   "cell_type": "code",
   "execution_count": 53,
   "metadata": {},
   "outputs": [
    {
     "data": {
      "image/png": "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\n",
      "text/plain": [
       "<Figure size 432x288 with 1 Axes>"
      ]
     },
     "metadata": {
      "needs_background": "light"
     },
     "output_type": "display_data"
    }
   ],
   "source": [
    "my_show_train_history( train_history, 'acc', 'val_acc' )"
   ]
  },
  {
   "cell_type": "code",
   "execution_count": 60,
   "metadata": {},
   "outputs": [
    {
     "data": {
      "image/png": "iVBORw0KGgoAAAANSUhEUgAAAZIAAAEWCAYAAABMoxE0AAAABHNCSVQICAgIfAhkiAAAAAlwSFlzAAALEgAACxIB0t1+/AAAADl0RVh0U29mdHdhcmUAbWF0cGxvdGxpYiB2ZXJzaW9uIDMuMC4yLCBodHRwOi8vbWF0cGxvdGxpYi5vcmcvOIA7rQAAIABJREFUeJzt3Xl8VNXdx/HPLzs7GCJVFkHBBUWwjbu2dcelYOsC1n2p3bBqn9ZqrdbSatXa9tHq4yMqLohCXRu3aq0rVSmhoizqY0CUCEjYAyRk+z1/nJtkErIymUxCvu/Xa14zc++5d85MYL5zzr33HHN3REREtldKsisgIiKdm4JERETioiAREZG4KEhERCQuChIREYmLgkREROKiIBFpJTNLNbNNZjYkQfvf3cw2JWLfIomgIJEdXvSlX32rMrOSmOdnt3Z/7l7p7j3d/fPtqMtwM9vm4i0ze8TMboj2v8Tde7ZgX5eY2eutrYNIW0tLdgVEEi32S9nMlgKXuPsrjZU3szR3r2iPuiVTV3mfknhqkUiXZ2a/M7OZZvaYmRUD55jZoWb2rpmtN7MVZnaHmaVH5dPMzM1saPT8kWj9i2ZWbGbvmNmwOOpTp9ViZheb2dJo30vMbKKZjQLuBI6MWlaro7J9o/oURdtcY2YWrbvEzN6M6roW+F30/vaJea1dzGyLmWVvb/2l61GQiATfBh4F+gAzgQrgcqA/cDgwFvh+E9t/F7gO2An4HPhtW1TKzHoDfwKOc/deUV0+cPf5wCTgraibrX+0yf8A3YHdgaOBi4HzYnZ5GPAhkAP8BvgrcE699/GSu69pi/pL16AgEQlmufuz7l7l7iXuPsfdZ7t7hbsvAaYA32hi+yfcPd/dy4HpwJimXixqCdTcgDObKO7AfmaW5e4r3H1RI/tMj/ZztbsXR/X+M3BuTLHP3f3u6DhPCfAQ8N3qVktUdlpTdRepT0EiEiyLfWJme5vZ82a20sw2ApMJrZPGrIx5vAVo8mC5u/eNvRFaBg2V2wicBfwYWGlmz5nZno3sdmcgFfgsZtlnwMCY53Xep7v/i9D6OsLM9gOGAM83VXeR+hQkIkH9M6nuARYAw929N3A9YNts1Q7c/UV3PxbYBSiI6gbb1nkVUAnsFrNsCPBF7O4aeImHCd1b5wJ/dfetbVFv6ToUJCIN6wVsADZHB6ObOj6SMNHB72+ZWXegDNhMCAuAL4FB1ScBRN1qTwA3mVnP6ID/lcAjzbzMNOB0wvGRhxPwNmQHpyARadh/AecDxYQWwMwk1SMV+DmwAlhDOFg+KVr3D+AT4Eszq+5a+xEhcD4F3iAcA2kyHNx9KTAfKHP3t9u4/tIFmCa2EhEzexhY4u43JLsu0vnogkSRLs7MdgfGA6OSXRfpnNS1JdKFmdnvgfeBm7ZnyBcRUNeWiIjESS0SERGJS5c4RtK/f38fOnRosqshItKpzJ07d7W75zRXrksEydChQ8nPz092NUREOhUz+6z5UuraEhGROClIREQkLgoSERGJS5c4RtKQ8vJyCgsLKS0tTXZVpBFZWVkMGjSI9PT0ZFdFRJqQ0CAxs7HA7YTxgu5z95vrrc8kjAP0NcI4QhOicX+q1w8BFgE3uPttLdlnSxUWFtKrVy+GDh1K7VQM0lG4O2vWrKGwsJBhw7Z7skERaQcJ69oys1TgLuBEYCRwlpmNrFfsYmCduw8nTMBzS731fwZebOU+W6S0tJTs7GyFSAdlZmRnZ6vFKNIJJPIYyUFAgbsvcfcyYAZhPJ9Y4wmjk0IY/vqYmPmlTwWWAAtbuc8WU4h0bPr7iHQOiQySgdSdja2QujO11Snj7hWE+R+yzawH8AvCnNKt3aeIdEWV5TD3Idi0Ktk16XISGSQN/ZysP7BXY2V+A/zZ3Tdtxz5DQbNLzSzfzPKLioqarayIdGLlpfDX8+DZn8CjE8JzaTeJDJJCYHDM80HA8sbKmFka0AdYCxwM3GpmS4ErgF+a2aQW7hMAd5/i7rnunpuT0+wV/juEZ555hkWLFrV6u7y8PG6+ebvOWRBJvq2b4NEz4eMXYMw5sPw/8NyVoAFp200iz9qaA4yIpvv8AphImMozVh5hFrp3CFN9vuphOOIjqwuY2Q3AJne/Mwqb5vbZZT3zzDOccsopjBy57fkHFRUVpKU1/OceN24c48aNS3T1RNpeyfoQIoVz4NT/hTFnQZ+B8MYtsOsYODgpMyR3OQkLEneviFoRLxFO1Z3q7gvNbDKQ7+55wP3ANDMrILREJm7PPuOt62+eXcii5Rvj3U0dI3ftza+/tW+TZZYuXcrYsWM54ogjePfddxk9ejQXXnghv/71r1m1ahXTp0/n7LPP5u233yYnJ4eqqir23HNP3n33Xfr3719nX2+//TZ5eXm88cYb/O53v+PJJ5/k4osv5rDDDuNf//oX48aNY8899+R3v/sdZWVlZGdnM336dAYMGMCDDz5Ifn4+d955JxdccAG9e/cmPz+flStXcuutt3L66ae36Wcj0iY2r4Zpp8Kqj+CMB2FkdN7NN66GlfPh79fAziNh2JFN7kbil9DrSNz9BeCFesuuj3lcCpzRzD5uaG6fnVlBQQGPP/44U6ZM4cADD+TRRx9l1qxZ5OXlcdNNN3HOOecwffp0rrjiCl555RVGjx69TYgAHHbYYYwbN45TTjmlzhf/+vXreeONNwBYt24d7777LmbGfffdx6233sof//jHbfa1YsUKZs2axUcffcS4ceMUJNLxbFwOD4+H9cvgrBkw4tjadSkp8O174L5j4PHz4dLXoe+QZNW0S+iyV7bHaq7lkEjDhg1j1Kgww+m+++7LMcccg5kxatQoli5dyl/+8hfGjx/PFVdcwdSpU7nwwgtbtf8JEybUPC4sLGTChAmsWLGCsrKyRi/0O/XUU0lJSWHkyJF8+eWX2//mRBJh7achRLashXOehKGHb1smqzdMfAzuPQpmfBcuehkyurd/XbsIjbWVZJmZmTWPU1JSap6npKRQUVHB4MGDGTBgAK+++iqzZ8/mxBNPbNX+e/ToUfP4sssuY9KkScyfP5977rmn0Yv9YuukGTSlQ1n1ETxwImzdCOf/reEQqdZ/OJx2P6xcAHmX6eB7AilIOoFLLrmEc845hzPPPJPU1NRGy/Xq1Yvi4uJG12/YsIGBA8NlNw899FCj5UQ6pOXz4MGToKoSLngBBn6t+W32PB6OuQ4WPAFv35H4OnZRCpJOYNy4cWzatKnZbq2JEyfyhz/8gQMOOIDFixdvs/6GG27gjDPO4Mgjj2zwOItIh/X5u/DQtyC9O1z0dxjQipGRjvhpOBD/yg1Q8ErCqtiVWVfousjNzfX6MyR++OGH7LPPPkmqUevk5+dz5ZVX8tZbbyW7Ku2uM/2dJEEWvxaOc/TeFc77G/QZ1Pp9bN0E9x8PGwvhe69B9h5tX88dkJnNdffc5sqpRdLB3XzzzZx22mn8/ve/T3ZVRNrfR8+H60T6DYMLX9y+EAHI7AkTp4OlwIyzQ7BIm1GQdHBXX301n332GUcccUTNshtvvJExY8bUud14441JrKVIAnzwOMw8F74yCi54DnruHN/+dhoGpz8Aqz+GZ34AVVVtU0/R6b+d0bXXXsu1116b7GqIJE7+A2GYk6FHwFmPQWavttnvHkfBcb+Fl6+Ft/4I3/h52+y3i1OLREQ6lrf/As9dASOOg7Mfb7sQqXboj2H/CfDajfDxi82Xl2YpSESkY3CH134PL/8KRp4KE6ZDere2fx0z+NbtsMv+8OT3oOj/2v41uhgFiYgknzu8dC28cXMYwff0qZCWkbjXS+8WgiotE2acBaUbEvdaXYCCRKS1qqrgg7/C6zdD2ZZk16bzq6oM84i8excc/AMY9xdIafzC2zbTdzCc+TCsWxpaJjr4vt0UJB2dV8HW4jD7Wxu74YYbuO222wC4/vrreeWVbS/Wev311znllFOa3M+8efN44YXacTR32PlN3OGTV+Cer8NT34PXfw9TvhGuuJbtU1kePsv/PAxH/gzG3hwGXWwvQw8Pr/nJS/D6Te33ujsYnbXVEblD2SYoWRfmW/DKcP57jxzosTOktv2fbfLkydu97bx588jPz+ekk04CdtD5Tb6YC//4NSx9C/oNDWM4desHf/sx3HcsHH0tHPaT9vklvaMoL4XHL4D/exGOvQGOuDI59TjwEljxPrz5h3CqcfVw9NJiChKAF6P5C9rSV0bBiU3/Kt9mPpJR+3LhxFP59Y23sqpoDdPvuomzL7uOt197mZxe6VRtXMGeow/h3VdfoP9ue0NK7Z9vw4YNjB49miVLlpCSksKWLVvYa6+9WLJkCQ8++CBTpkyhrKyM4cOHM23aNLp3rzsS6gUXXFAzBP3f//53rrjiCvr3789Xv/rVmjL//ve/ueKKKygpKaFbt2488MADDBs2jOuvv56SkhJmzZrFNddcQ0lJSc38Jp999hkXXXQRRUVF5OTk8MADDzBkyJDOM+/JmsXwz8mw6Bnong0n3gpfu7C2//6Hb8Ozl4fhNz55Bb79v6HLRJq2dVO4Wv3TN+Ck2+Cg7yWvLmZw8h+h6CN4+oeQPRwGJG9E8M5IXVvJ5E5BQQGXX3wWH/zjMT5a+AGPPjaTWS8+wW23/J6b7nmcc867gOlPPQ/9hvLKB8sZvd9I+meWw5eLoHhl6F8G+vTpw+jRo2vmHnn22Wc54YQTSE9P5zvf+Q5z5szh/fffZ5999uH+++9vtEqlpaV873vf49lnn+Wtt95i5cqVNev23ntv3nzzTd577z0mT57ML3/5SzIyMpg8eTITJkxg3rx5dYatB5g0aRLnnXceH3zwAWeffTY/+clPatZVz3vy3HPPcfXVV7flJxu/Tavg+f+Cuw6CT/4B3/gF/GRemHEv9iBw951CP/v4/4EV8+Duw8OFdNK4kvUw7duhdffte5IbItXSMuHMaeFU4xnfDUPUS4upRQLNthzaXMXW0G21ZjHDBu/KqN12goxu7Lvf/hxz4slY9h6MyjWW3vQH/nLnnbXzkTw8nQu/Pwn67wXFK8JtcxH0HADd+zNhwgRmzpzJUUcdxYwZM/jRj34EwIIFC/jVr37F+vXr2bRpEyeccEKjVfvoo48YNmwYI0aMAOCcc85hypQpQGj1nH/++XzyySeYGeXlzR+3eeedd3jqqacAOPfcc7nqqqtq1nXIeU+2FofrGN6+EypK4WsXhBDpNaDxbczggLNht0Phqe/DU5eEPveTboNufdut6p3CpiJ45NvRrIYPwcgO1AXaexeY8EgYYfiJi+DsJxLSjbwjUoukvVSWhV+5RR/DqkUhBFJSyOzWAwbsB9nDScnoRma30OXU5HwkGd3DoHP994S0brDxC1i1iHHHHMqLL77I2rVrmTt3LkcffTQQuq3uvPNO5s+fz69//etG5yGpZmYNLr/uuus46qijWLBgAc8++2yz+2lu3x1q3pOKMpg9BW4fE+b7HnEc/PjfcMqfmg6RWDvtHsaD+uYvYcFT8L9HwNJZia13Z7Lhi/AlvboAvjujY4VItcEHhh8AS16Df96Q7Np0GgkNEjMba2Yfm1mBmW3Td2FmmWY2M1o/28yGRssPMrN50e19M/t2zDZLzWx+tC6//j47lMqKMK/06k/gy4XhCx8Po5juvG/44klJhdT0JnfT6HwkGT3C5D3ZwyEtg56V6zlo/725/Mc/4JSTT64pW1xczC677EJ5eTnTp09v8rX23ntvPv3005ph6B977LGadbHzmTz44IM1y5uaB+Wwww5jxowZAEyfPr3OmGEdQlUVzH8C7joQXvw57LwPXPIqnPlQ+GxbKzUNvvkLuOilcAzrwVPC8ZOKsjaveqey9lN4YCxsXAHnPgXDj21+m2T52vnhAPzbf1E3ZQslLEjMLBW4CzgRGAmcZWb1JxG4GFjn7sOBPwO3RMsXALnuPgYYC9xjZrFtzKPcfUxLhjdud1WVoX91zWL4cgFsWBZOcez1FcjZB3L2Dl1RrbjYqtn5SDJ7QfYI2GkPJnz7JB6Z8TgTjj8k1MOd3/72txx88MEcd9xx7L333k2+VlZWFlOmTOHkk0/miCOOYLfddqtZd9VVV3HNNddw+OGHU1lZWbP8qKOOYtGiRYwZM4aZM2fW2d8dd9zBAw88wP7778+0adO4/fbbW/y+E27xa3DvN+HJiyG9R+jKOP9ZGNSCCZOaM/hA+MEsOOAcmPVnuP/YrnsF9aqPYOrY0G14fh7sdliya9S8sTfDbodD3qTOe3p3VVWYHbIdJGw+EjM7FLjB3U+Inl8D4O6/jynzUlTmnSgoVgI5HlMpMxsGvAsMdPcKM1tKCJnVLa1LwucjqaoKU3+WrIPSjUAVpKSH00O79QtX0TbSXdQSrZqPxD3UoXgFVJRAWhb02gWy+sRVh2RJyHwkK94PrYTFr0KfwXD0r2DUGYk7dffDZyHvJ1BeAsf/Nvza7YR/i+2yfB488p3QOjv3mdZNSJVsm4rCdUKWEuYw6ZmT7Bq1TFVlOMvwzdtg7RK4/IOWd8/W09L5SBJ5JGkgsCzmeSFwcGNlopDYAGQDq83sYGAqsBtwrrtXRNs48LKZOXCPu09p6MXN7FLgUoAhQ4a0zTuK5R5+YZWsC8MreGX4z9J9pxAeGT3a5Mvi5ptv5u677262S6qGGXTrA1m9oXR9CJR1n4ZjKb13gczeXedLrL61n4aB+uY/Hv5Gx98YvtTTsxL7uvt8Cwbmwt9+BC/8LJwFNv7O+IdF7+g+fxemnxF+xJz3t843mVTPnDCHydSx4XqX855pths6qSorYMGT8NZtsPr/wkk54+6EHomfDTWRLZIzgBPc/ZLo+bnAQe5+WUyZhVGZwuj54qjMmpgy+wAPAV9391Iz29Xdl5vZzsA/gMvc/c2m6tJmLRJ3KNschcd6qKoASw3/Ubr1C11M7fAlfeONN/L443X7bs8444yGh5Z3D/UtXhEO+Kd3Dy2UdqprvNqkRbJ5dbjYbM79IewP+SEcfnn7n1FVVQX/ngL/uD58/uPvgr3Gtm8d2sviV8MEUvHMathRvD8Tnr4UDvo+nHRrsmuzrcpy+GBmGBZ/7ZJw/PUbP4d9xsc9SkBHaJEUArFXZg0CljdSpjDq2uoD1DmB290/NLPNwH5Avrsvj5avMrOngYOAJoOkMe7e6BlKMYVCl0RpdJV5ZRlgMeHRu32HdKCV85GYRa2kvuGYSfFKWLsYMnpGgdIzsZWNQ9w/cso2wzv/A/+6Hco3wwHnwjevDl9uyZCSAof8AHb/Bjx5CTw2AXIvCi2jjO7Nb99ZfPR8+AXff0849+nO3/IaPQFWfgDv3BlGDD7gnGTXKKgog3nTYdafYP3n8JX9w0CUe53U7t9JiQySOcCI6BjHF8BE4Lv1yuQB5wPvAKcDr7q7R9ssi7q7dgP2ApaaWQ8gxd2Lo8fHA9s1tkdWVhZr1qwhOzu74TBxh01fQsnacN0HFn5FVh9v6GxDYVhKaOJ23wk2r4FNK2HNJ7XvKaNHsmtYh7uzZs0asrK2o9upsjyM3fTGLeFvuPcpcMz1kLNX21d0e+y8D3zvVXj1t+HMoE/fgtPuhV0PSHbN4vfBX+HpH4T3cvbj4d/bjuDY34STZ567MpwwMyiJ5/mUl8J702DWf4c56Ad+LZyyPOL4pPUyJKxrC8DMTgL+G0gFprr7jWY2mdCyyDOzLGAacAChJTLR3ZdE3WBXA+VAFTDZ3Z8xs92Bp6PdpwGPunuzc8w21LVVXl5OYWFh09dCbFoV7tO7hwPmnS08muJVYTyv0uJwfCe9WwjI1AQO3d1KWVlZDBo0iPT0FvZLu8Oiv4Uv6DUFMPgQOG4yDKl/aK4DWfJG+OLdvAqO+iUcfkXn/XeWPxWe+2nbz2rYUWxZC1O+GXolLn09nInZnsq2wNwHQwt708rw7/sbV8EeRycsQFratZXQIOkoGgqSFqkoS+ycCB3B1mKY/b/hl3HphjBg3Td/CTs3fZpwh7N0Vjj28MXc8Ivx2Btgz7Gd4jgQW9bC8z+FhU/DkMPCeF39dmt+u47APRzYfX9G6GIZcUK4BicRE1J1BCsXwP3HhYuIL3guDK2SaFs3hZB++44wksXQI0OADD0y4f++FSQxtjtIupKS9fDOXfDu/4RjC/ufGYYG6ehn2qxcAP/8DXzyMvTaNfyqH31W5xvawj0cMH3+Z+HL4aTbwt+gowWhe5i/49M3w1hZn74Zug8B9jsdTr17x//xtfDpcAzoq+eHmRYT9Tcq3Qhz7g3D9ZSshd2PCgHSjtfhKEhiKEhaYfMa+Nd/w7/vDU34Md8N/3j7JuAU6nisXwav3QTvPxZOdT7ip2FAxc7+S3jdZ/D09+Hzd2C/08KotN36JbdOG5eH4zifvhluGz4Py3vsDMO+Ht2OhH7DOl7wJco/J4ezpE7+Exx4cdvuu2Q9zL4n/KgrXR+OfXz9qnCRaztTkMRQkGyH4i9DV0X+1PAr9GsXwJH/Fa5FiVVVFU6D9spwIVT1fZ3H1etbWdaj5zXro+1Xzoc594XXP/j7YR6LHeWgLoT3O+vPYeKsnl8JXV3Djmy/19+8ura18emb4XgTQFbfUI+hUXjk7NV1gqO+qkp4bGI4zfn8Z9umlbBlbQiP2feEC5z3Ohm+/jMY+NXmt00QBUkMBUkcNhSGazDeeyQESlpm3S/3pLDQUvrmNTv23B9fzIWnLg3D7Rx2WbgCPxF98qUb4LO3a4Pjy2hYjYye4QuyutUxYFS7n1baoZWsh3uPDl/6l76+/dfKbCoKpxbPuS+cADNyPHz952FOoyRTkMRQkLSBtZ+GMKkoDWcVpaSFizFTUmvv6zxOC6cc1yxLix6nxL99Vp92uVq3QyjbDC9dC3MfCF8s37kv/hMhyjaHq86rg2PFvHAWX1oWDD44Co5vwK5jOvaV3B1B0cdw7zHhWOJFf29d12rxynCSy5z7w/+r/U4LLZCd23hIoDgoSGIoSKTT++iFMIBg2WY47rdhMqiWditVbIXCObXBUZgPVeUhnAcdGIJj6JHhcaKHi9kRffQCzDgrnORx6t3N/102fBFO4f3PQ+Gap1FnhG7jnD3bp76t0BGubBeRtrL3STDwnRAmL/48nKU2/q6GB+OrrIDl78HSKDg+fzf84rUU2GUMHPqjEB6DD+nQIxt0GnufFE6Zf/2mcHX5oT9quNz6z8Oxr/ceCS3A0RPDSSId/czIFlCLRKQzcQ996S//KoxGMO7OcL3MlwtqWxyfvQ1l0fwwO+9be4xjt8M0Y2OiVFXBX8+Fj18M863s/s3adWuXwFt/CmcYYmGIlSOu7BTXCqlrK4aCRHY4RR+H8bpWfgCZfWDrhrA8e3htcAw9suscS+oIthbDfceGETEufS20DN+6LQwbk5IWznw8/HLoMzDZNW0xBUkMBYnskCrKQl/7+qUhNIYe2am+pHZIaxbDvUeFoYa2rIHUzHCdyWGXtf+QKm1Ax0hEdnRpGWG4cOk4sveA06fCs1eE8Dj0ss4zIVYcFCQiIm1p+LFwZftMcdtR6OoiERGJi4JERETioiAREZG4KEhERCQuChIREYlLQoPEzMaa2cdmVmBmVzewPtPMZkbrZ5vZ0Gj5QWY2L7q9b2bfbuk+RUSkfSUsSMwsFbgLOBEYCZxlZiPrFbsYWOfuw4E/A7dEyxcAue4+BhgL3GNmaS3cp4iItKNEtkgOAgrcfYm7lwEzgPH1yowHHooePwEcY2bm7lvcvSJangVUX37fkn2KiEg7SmSQDASWxTwvjJY1WCYKjg1ANoCZHWxmC4H5wA+i9S3Zp4iItKNEBklDg/LXH9ir0TLuPtvd9wUOBK4xs6wW7jPs2OxSM8s3s/yioqJWVFtERFojkUFSCMTOgzoIWN5YGTNLA/oAa2MLuPuHwGZgvxbus3q7Ke6e6+65OTk7/lg3IiLJksggmQOMMLNhZpYBTATy6pXJA86PHp8OvOruHm2TBmBmuwF7AUtbuE8REWlHCRu00d0rzGwS8BKQCkx194VmNhnId/c84H5gmpkVEFoiE6PNjwCuNrNyoAr4kbuvBmhon4l6DyIi0jzNRyIiIg1q6XwkurJdRETioiAREZG4KEhERCQuChIREYmLgkREROKiIBERkbgoSEREJC4KEhERiYuCRERE4qIgERGRuChIREQkLgoSERGJi4JERETioiAREZG4KEhERCQuChIREYmLgkREROKiIBERkbgkNEjMbKyZfWxmBWZ2dQPrM81sZrR+tpkNjZYfZ2ZzzWx+dH90zDavR/ucF912TuR7EBGRpqUlasdmlgrcBRwHFAJzzCzP3RfFFLsYWOfuw81sInALMAFYDXzL3Zeb2X7AS8DAmO3OdndNwi4i0gEkskVyEFDg7kvcvQyYAYyvV2Y88FD0+AngGDMzd3/P3ZdHyxcCWWaWmcC6iojIdkpkkAwElsU8L6Ruq6JOGXevADYA2fXKnAa85+5bY5Y9EHVrXWdm1tCLm9mlZpZvZvlFRUXxvA8REWlCIoOkoS94b00ZM9uX0N31/Zj1Z7v7KODI6HZuQy/u7lPcPdfdc3NyclpVcRERablEBkkhMDjm+SBgeWNlzCwN6AOsjZ4PAp4GznP3xdUbuPsX0X0x8CihC01ERJIkkUEyBxhhZsPMLAOYCOTVK5MHnB89Ph141d3dzPoCzwPXuPu/qgubWZqZ9Y8epwOnAAsS+B5ERKQZCQuS6JjHJMIZVx8Cf3X3hWY22czGRcXuB7LNrAD4KVB9ivAkYDhwXb3TfDOBl8zsA2Ae8AVwb6Leg4iINM/c6x+22PHk5uZ6fr7OFhYRaQ0zm+vuuc2V05XtIiISFwWJiIjERUEiIiJxUZCIiEhcFCQiIhIXBYmIiMRFQSIiInFRkIiISFxaFCRmdrmZ9bbgfjP7j5kdn+jKiYhIx9fSFslF7r4ROB7IAS4Ebk5YrUREpNNoaZBUD/d+EvCAu79Pw0PAi4hIF9PSIJlrZi8TguQlM+sFVCWuWiIi0lm0dM72i4ExwBJ332JmOxG6t0REpItraYvkUOBjd19vZucAvyJMiysiIl1cS4PkbmCLmY0GrgI+Ax5OWK2ufWSFAAAS20lEQVRERKTTaGmQVHiYuGQ8cLu73w70Sly1RESks2jpMZJiM7sGOBc40sxSgfTEVUtERDqLlrZIJgBbCdeTrAQGAn9obiMzG2tmH5tZgZld3cD6TDObGa2fbWZDo+XHmdlcM5sf3R8ds83XouUFZnaHmek0ZBGRJGpRkEThMR3oY2anAKXu3uQxkqjVchdwIjASOMvMRtYrdjGwzt2HA38GbomWrwa+5e6jgPOBaTHb3A1cCoyIbmNb8h5ERCQxWjpEypnAv4EzgDOB2WZ2ejObHQQUuPsSdy8DZhCOscQaDzwUPX4COMbMzN3fc/fl0fKFQFbUetkF6O3u70THbB4GTm3JexARkcRo6TGSa4ED3X0VgJnlAK8QvvwbMxBYFvO8EDi4sTLuXmFmG4BsQouk2mnAe+6+1cwGRvuJ3efAFr4HERFJgJYGSUp1iETW0HxrpqFjF96aMma2L6G76/iWlK+zY7NLCV1gDBkypJmqiojI9mrpwfa/m9lLZnaBmV0APA+80Mw2hcDgmOeDgOWNlTGzNKAPsDZ6Pgh4GjjP3RfHlB/UzD4BcPcp7p7r7rk5OTnNVFVERLZXSw+2/xyYAuwPjAamuPsvmtlsDjDCzIaZWQYwEcirVyaPcDAd4HTgVXd3M+tLCKtr3P1fMfVYQTgV+ZDobK3zgL+15D2IiEhitLRrC3d/EniyFeUrzGwS8BKQCkx194VmNhnId/c84H5gmpkVEFoiE6PNJwHDgevM7Lpo2fFR99oPgQeBbsCL0U1ERJLEwslPjaw0K6bhYxAGuLv3TlTF2lJubq7n5+cnuxoiIp2Kmc1199zmyjXZInF3DYMiIiJN0pztIiISFwWJiIjERUEiIiJxUZCIiEhcFCQiIhIXBYmIiMRFQSIiInFRkIiISFwUJCIiEhcFiYiIxEVBIiIicVGQiIhIXBQkIiISFwWJiIjERUEiIiJxUZCIiEhcFCQiIhKXhAaJmY01s4/NrMDMrm5gfaaZzYzWzzazodHybDN7zcw2mdmd9bZ5PdrnvOi2cyLfg4iINK3JqXbjYWapwF3AcUAhMMfM8tx9UUyxi4F17j7czCYCtwATgFLgOmC/6Fbf2e6uSdhFRDqARLZIDgIK3H2Ju5cBM4Dx9cqMBx6KHj8BHGNm5u6b3X0WIVBERKQDS2SQDASWxTwvjJY1WMbdK4ANQHYL9v1A1K11nZlZQwXM7FIzyzez/KKiotbXXkREWiSRQdLQF7xvR5n6znb3UcCR0e3chgq5+xR3z3X33JycnGYrKyIi2yeRQVIIDI55PghY3lgZM0sD+gBrm9qpu38R3RcDjxK60EREJEkSGSRzgBFmNszMMoCJQF69MnnA+dHj04FX3b3RFomZpZlZ/+hxOnAKsKDNay4iIi2WsLO23L3CzCYBLwGpwFR3X2hmk4F8d88D7gemmVkBoSUysXp7M1sK9AYyzOxU4HjgM+ClKERSgVeAexP1HkREpHnWRANgh5Gbm+v5+TpbWESkNcxsrrvnNldOV7aLiEhcFCQiIhIXBYmIiMRFQSIiInFRkIiISFwUJCIiEhcFiYiIxEVBIiIicVGQiIhIXBQkIiISFwWJiIjERUEiIiJxUZCIiEhcFCQiIhIXBYmIiMRFQSIiInFRkIiISFwSGiRmNtbMPjazAjO7uoH1mWY2M1o/28yGRsuzzew1M9tkZnfW2+ZrZjY/2uYOM7NEvgcREWlawoLEzFKBu4ATgZHAWWY2sl6xi4F17j4c+DNwS7S8FLgO+FkDu74buBQYEd3Gtn3tRUSkpRLZIjkIKHD3Je5eBswAxtcrMx54KHr8BHCMmZm7b3b3WYRAqWFmuwC93f0dD5PNPwycmsD3ICIizUhkkAwElsU8L4yWNVjG3SuADUB2M/ssbGafIiLSjhIZJA0du/DtKLNd5c3sUjPLN7P8oqKiJnYpIiLxSGSQFAKDY54PApY3VsbM0oA+wNpm9jmomX0C4O5T3D3X3XNzcnJaWXUREWmpRAbJHGCEmQ0zswxgIpBXr0wecH70+HTg1ejYR4PcfQVQbGaHRGdrnQf8re2rLiIiLZWWqB27e4WZTQJeAlKBqe6+0MwmA/nungfcD0wzswJCS2Ri9fZmthToDWSY2anA8e6+CPgh8CDQDXgxuomISJJYEw2AHUZubq7n5+cnuxoiIp2Kmc1199zmyunKdhERiYuCRERE4qIgERGRuChIREQkLgoSERGJi4JERETioiAREZG4KEhERCQuChIREYmLgkREROKiIBERkbgoSEREJC4KEhERiYuCRERE4qIgERGRuChIREQkLgoSERGJi4JERETiktAgMbOxZvaxmRWY2dUNrM80s5nR+tlmNjRm3TXR8o/N7ISY5UvNbL6ZzTMzzZ8rIpJkaYnasZmlAncBxwGFwBwzy3P3RTHFLgbWuftwM5sI3AJMMLORwERgX2BX4BUz29PdK6PtjnL31Ymqu4iItFwiWyQHAQXuvsTdy4AZwPh6ZcYDD0WPnwCOMTOLls9w963u/ilQEO1PREQ6mEQGyUBgWczzwmhZg2XcvQLYAGQ3s60DL5vZXDO7tLEXN7NLzSzfzPKLiorieiMiItK4hHVtAdbAMm9hmaa2Pdzdl5vZzsA/zOwjd39zm8LuU4ApALm5ufVft0U+Xb2ZkrJKKqucSncqq6qorIKKqiqqqu/dqaj0cF/loWx0q15WVVVvnTuVldX7rHurqLdd7L4ccCe6D89xcDwsj30claXO8233AfW2q7eP2P2npBh7DujJmMH9GDO4L7v370FKSkN/KhHpShIZJIXA4Jjng4DljZQpNLM0oA+wtqlt3b36fpWZPU3o8tomSNrC9x7Op2DVpkTsuoYZpKUYKWbhPiXcp9ZblmKGWUhYMwtJW+95WB/KUX95zDqLXrh2m233UbPvFDBSMIOyiiqeeW85j7z7OQC9stIYPagvYwZHtyF96d8zM6Gfl4h0PIkMkjnACDMbBnxBOHj+3Xpl8oDzgXeA04FX3d3NLA941Mz+RDjYPgL4t5n1AFLcvTh6fDwwOVFv4PpTRrKlrJLUlLpf8ilmpKXWftGnxtwaWpaaYqSakZoa3ccs62y/6CurnMVFm5j3+XrmFa5n3ufrufuNxVRWhdbNwL7dGDOkLwdE4bLvrn3olpGa5FqLSCIlLEjcvcLMJgEvAanAVHdfaGaTgXx3zwPuB6aZWQGhJTIx2nahmf0VWARUAD9290ozGwA8HY7HkwY86u5/T9R7+PqeOYnadaeVmmLsOaAXew7oxZkHhkZjSVklC5ZvCOGyLITL8x+sqCm/91d61bZaBvdlj5yenS5AJX7uTlllFWUVVWytCPd1HldWsrW8iq0NlqmsW76ydvnWmOUVlVXs0rcbe+T0ZI+cHuyR05OBfbvp31uCWXU/+Y4sNzfX8/N1yUl7WlVcyvvLNjBv2TrmLVvPB8s2ULy1AoBemWnsP7gPYwb3DV1jQ/qyc6+sJNe446uorGLFhlIK15WwbN0WCteVULhuCxtLKqIStce8ap9Fj6uPh9U8b7wM25TxbZfVW+cOFVXe8Jd+RW04tAUzyExLISM1hYy0VDLTUsLztBRSzMJnUlpRUz4rPYVh/WuDZY+dw+Pd+/dUa7kZZjbX3XObLacgkfZQVeUsWb2J96JWy/uF6/loRTEVsV1ig/syenAfxgzux6iBXa9LrLLKWbmxlMK1W7YJi8J1JazYUFrThQiQYvCV3ln06Z5Rc3ZK7fGx6D7mvJXaZXUXxP5Wr1/GmixTt3B6qpGRmkJmWioZ0Rd79Rd8eJwaEwDbrsuI1mWmR/dpDe8rLcVq6tUQd2fN5jIWr9rE4qLNLC7axOKiTSwp2syydVuI/cob2LdbTbCEVkxP9ti5Bzk9M5t8ja5CQRJDQdIxlZZXsuCLDaE7LLoVrisBQpfYXgN6MXpwdLxlSOgSS+3EXRRVVc6q4q0UrtsSQmJtSZ3AWL6+pCZYIXxhD+iVxaB+3RjUrxuDd+oePe7O4H7d+UqfLDLSNMpRa5SWV7J0zWYWr6oNmMVFm1i8ajMl5ZU15XplpdUJlurHu2V3Jz2163zmCpIYCpLOo6h4K+9HLZbqcCmOuil6ZqYxamAf9t21Nz0y08hMTyErLbXh+/Tw67f+ffWv4kT0mbs7RZu2smxtbSui9r6EL9aVUFZZt3snp1dmCIl+MSGxU7jftW8WmWldq1WWLFVRazCESt2WzJcbt9aUS0sxhmR3rw2ZnB6hRdO/J326pyfxHSSGgiSGgqTzCl1im3k/ptXyf18WszXO/vbqLpTMtFSy0lMaDJ3Y8MlKTyEzPZWstHCfmZZCeaXXBMWydVv4Yl3JNvXK7pHBoJqWRN3AGNSvG1npCoqOrri0nCUxwVLdmlm6ZjPllbXfn/17ZoZjLzk92b1/D/r3yqBf93DbqUcG/Xpk0CMjtVN1mSlIYihIdjxVVeEMoK3lVZRWVDZ8Xx7O6Km+31pRSWl5w/db6z+v2Hb76vvY/zL9uqfXhMLgeoExsF83umck8gx7SaaKyiqWrSuJWjDVt80UrNrEhpLyBrfJSE2hb/f0ECzdM+jXI70maPp2z2Cn6HlHCZ+WBon+lUunlJJiZKWkkpWeSh/ar0uh+hTWrRVVpJrRI1P/hbqqtNQUhvXvwbD+PTiWATXL3Z2NJRWs2byVdVvKWbe5jLVbyli3uazO8/Vbyvh4ZTHrtpSzfksZVY38pu8M4aP/BSKtYGbRcRZ1SUnDzIw+3dNbdcykqsrZWFrO2gbCZu3m1odPeqrVBMuTPzws4T94FCQiIkmWkmL07R5aGC3VkvBZt6WMbu1wHE5BIiLSCW1P+CSsLsmugIiIdG4KEhERiYuCRERE4qIgERGRuChIREQkLgoSERGJi4JERETioiAREZG4dIlBG82sCPhsOzfvD6xuw+p0dvo8aumzqEufR60d5bPYzd2bnXO8SwRJPMwsvyWjX3YV+jxq6bOoS59Hra72WahrS0RE4qIgERGRuChImjcl2RXoYPR51NJnUZc+j1pd6rPQMRIREYmLWiQiIhIXBYmIiMRFQdIIMxtrZh+bWYGZXZ3s+iSTmQ02s9fM7EMzW2hmlye7Th2BmaWa2Xtm9lyy65JMZtbXzJ4ws4+ifyOHJrtOyWRmV0b/TxaY2WNmlpXsOiWagqQBZpYK3AWcCIwEzjKzkcmtVVJVAP/l7vsAhwA/7uKfR7XLgQ+TXYkO4Hbg7+6+NzCaLvyZmNlA4CdArrvvB6QCE5Nbq8RTkDTsIKDA3Ze4exkwAxif5DoljbuvcPf/RI+LCV8UA5Nbq+Qys0HAycB9ya5LMplZb+DrwP0A7l7m7uuTW6ukSwO6mVka0B1YnuT6JJyCpGEDgWUxzwvp4l+c1cxsKHAAMDu5NUm6/wauAqqSXZEk2x0oAh6IuvnuM7Meya5Usrj7F8BtwOfACmCDu7+c3FolnoKkYdbAsi5/nrSZ9QSeBK5w943Jrk+ymNkpwCp3n5vsunQAacBXgbvd/QBgM9BljymaWT9C78UwYFegh5mdk9xaJZ6CpGGFwOCY54PoAs3TpphZOiFEprv7U8muT5IdDowzs6WEbs+jzeyR5FYpaQqBQnevbqE+QQiWrupY4FN3L3L3cuAp4LAk1ynhFCQNmwOMMLNhZpZBOFiWl+Q6JY2ZGaEP/EN3/1Oy65Ns7n6Nuw9y96GEfxuvuvsO/6uzIe6+ElhmZntFi44BFiWxSsn2OXCImXWP/t8cQxc4+SAt2RXoiNy9wswmAS8RzrqY6u4Lk1ytZDocOBeYb2bzomW/dPcXklgn6TguA6ZHP7qWABcmuT5J4+6zzewJ4D+Esx3fowsMl6IhUkREJC7q2hIRkbgoSEREJC4KEhERiYuCRERE4qIgERGRuChIRNqAmVWa2byYW5td3W1mQ81sQVvtT6St6ToSkbZR4u5jkl0JkWRQi0QkgcxsqZndYmb/jm7Do+W7mdk/zeyD6H5ItHyAmT1tZu9Ht+rhNVLN7N5onouXzaxb0t6USD0KEpG20a1e19aEmHUb3f0g4E7CqMFEjx929/2B6cAd0fI7gDfcfTRhzKrqERVGAHe5+77AeuC0BL8fkRbTle0ibcDMNrl7zwaWLwWOdvcl0cCXK90928xWA7u4e3m0fIW79zezImCQu2+N2cdQ4B/uPiJ6/gsg3d1/l/h3JtI8tUhEEs8bedxYmYZsjXlciY5vSgeiIBFJvAkx9+9Ej9+mdgrWs4FZ0eN/Aj+Emjnhe7dXJUW2l37ViLSNbjEjI0OYw7z6FOBMM5tN+OF2VrTsJ8BUM/s5YYbB6hFzLwemmNnFhJbHDwkz7Yl0WDpGIpJA0TGSXHdfney6iCSKurZERCQuapGIiEhc1CIREZG4KEhERCQuChIREYmLgkREROKiIBERkbj8P5pScydjY/kwAAAAAElFTkSuQmCC\n",
      "text/plain": [
       "<Figure size 432x288 with 1 Axes>"
      ]
     },
     "metadata": {
      "needs_background": "light"
     },
     "output_type": "display_data"
    }
   ],
   "source": [
    "my_show_train_history( train_history, 'loss', 'val_loss' )"
   ]
  },
  {
   "cell_type": "code",
   "execution_count": 61,
   "metadata": {},
   "outputs": [
    {
     "name": "stdout",
     "output_type": "stream",
     "text": [
      "10000/10000 [==============================] - 1s 75us/step\n"
     ]
    },
    {
     "data": {
      "text/plain": [
       "0.9927"
      ]
     },
     "execution_count": 61,
     "metadata": {},
     "output_type": "execute_result"
    }
   ],
   "source": [
    "scores = model.evaluate( x_test_4D_normalized, y_test_oneHotEncoding)\n",
    "scores[1]"
   ]
  },
  {
   "cell_type": "code",
   "execution_count": 62,
   "metadata": {},
   "outputs": [
    {
     "data": {
      "text/plain": [
       "array([7, 2, 1, ..., 4, 5, 6], dtype=int64)"
      ]
     },
     "execution_count": 62,
     "metadata": {},
     "output_type": "execute_result"
    }
   ],
   "source": [
    "prediction = model.predict_classes(x_test_4D_normalized)\n",
    "prediction"
   ]
  },
  {
   "cell_type": "code",
   "execution_count": 63,
   "metadata": {},
   "outputs": [],
   "source": [
    "import matplotlib.pyplot as pyplot\n",
    "def my_plot_images_labels_prediction(input_images, input_labels, input_prediction, input_index, input_num=10):\n",
    "    fig = pyplot.gcf()\n",
    "    fig.set_size_inches(12,14)\n",
    "    if input_num>10:\n",
    "        input_num=10\n",
    "    for i in range(0, input_num):\n",
    "        ax = pyplot.subplot(5,5,1+i)\n",
    "        ax.imshow(input_images[input_index], cmap='binary')\n",
    "        title = \"label=\" + str(input_labels[input_index])\n",
    "        if len(input_prediction)>0:\n",
    "            title= title + \", predict=\" + str(input_prediction[input_index])\n",
    "        ax.set_title(title,fontsize=10)\n",
    "        ax.set_xticks([])\n",
    "        ax.set_yticks([])\n",
    "        input_index = input_index + 1\n",
    "    pyplot.show()"
   ]
  },
  {
   "cell_type": "code",
   "execution_count": 68,
   "metadata": {},
   "outputs": [
    {
     "data": {
      "image/png": "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\n",
      "text/plain": [
       "<Figure size 864x1008 with 10 Axes>"
      ]
     },
     "metadata": {},
     "output_type": "display_data"
    }
   ],
   "source": [
    "my_plot_images_labels_prediction(x_test, y_test, prediction, input_index=0)"
   ]
  },
  {
   "cell_type": "code",
   "execution_count": 69,
   "metadata": {},
   "outputs": [
    {
     "data": {
      "text/html": [
       "<div>\n",
       "<style scoped>\n",
       "    .dataframe tbody tr th:only-of-type {\n",
       "        vertical-align: middle;\n",
       "    }\n",
       "\n",
       "    .dataframe tbody tr th {\n",
       "        vertical-align: top;\n",
       "    }\n",
       "\n",
       "    .dataframe thead th {\n",
       "        text-align: right;\n",
       "    }\n",
       "</style>\n",
       "<table border=\"1\" class=\"dataframe\">\n",
       "  <thead>\n",
       "    <tr style=\"text-align: right;\">\n",
       "      <th>predict</th>\n",
       "      <th>0</th>\n",
       "      <th>1</th>\n",
       "      <th>2</th>\n",
       "      <th>3</th>\n",
       "      <th>4</th>\n",
       "      <th>5</th>\n",
       "      <th>6</th>\n",
       "      <th>7</th>\n",
       "      <th>8</th>\n",
       "      <th>9</th>\n",
       "    </tr>\n",
       "    <tr>\n",
       "      <th>label</th>\n",
       "      <th></th>\n",
       "      <th></th>\n",
       "      <th></th>\n",
       "      <th></th>\n",
       "      <th></th>\n",
       "      <th></th>\n",
       "      <th></th>\n",
       "      <th></th>\n",
       "      <th></th>\n",
       "      <th></th>\n",
       "    </tr>\n",
       "  </thead>\n",
       "  <tbody>\n",
       "    <tr>\n",
       "      <th>0</th>\n",
       "      <td>978</td>\n",
       "      <td>0</td>\n",
       "      <td>0</td>\n",
       "      <td>1</td>\n",
       "      <td>0</td>\n",
       "      <td>0</td>\n",
       "      <td>1</td>\n",
       "      <td>0</td>\n",
       "      <td>0</td>\n",
       "      <td>0</td>\n",
       "    </tr>\n",
       "    <tr>\n",
       "      <th>1</th>\n",
       "      <td>0</td>\n",
       "      <td>1131</td>\n",
       "      <td>1</td>\n",
       "      <td>1</td>\n",
       "      <td>0</td>\n",
       "      <td>0</td>\n",
       "      <td>1</td>\n",
       "      <td>0</td>\n",
       "      <td>1</td>\n",
       "      <td>0</td>\n",
       "    </tr>\n",
       "    <tr>\n",
       "      <th>2</th>\n",
       "      <td>0</td>\n",
       "      <td>0</td>\n",
       "      <td>1023</td>\n",
       "      <td>0</td>\n",
       "      <td>0</td>\n",
       "      <td>0</td>\n",
       "      <td>0</td>\n",
       "      <td>8</td>\n",
       "      <td>1</td>\n",
       "      <td>0</td>\n",
       "    </tr>\n",
       "    <tr>\n",
       "      <th>3</th>\n",
       "      <td>0</td>\n",
       "      <td>0</td>\n",
       "      <td>1</td>\n",
       "      <td>1006</td>\n",
       "      <td>0</td>\n",
       "      <td>2</td>\n",
       "      <td>0</td>\n",
       "      <td>0</td>\n",
       "      <td>1</td>\n",
       "      <td>0</td>\n",
       "    </tr>\n",
       "    <tr>\n",
       "      <th>4</th>\n",
       "      <td>0</td>\n",
       "      <td>0</td>\n",
       "      <td>0</td>\n",
       "      <td>0</td>\n",
       "      <td>973</td>\n",
       "      <td>0</td>\n",
       "      <td>1</td>\n",
       "      <td>0</td>\n",
       "      <td>1</td>\n",
       "      <td>7</td>\n",
       "    </tr>\n",
       "    <tr>\n",
       "      <th>5</th>\n",
       "      <td>1</td>\n",
       "      <td>0</td>\n",
       "      <td>0</td>\n",
       "      <td>5</td>\n",
       "      <td>0</td>\n",
       "      <td>884</td>\n",