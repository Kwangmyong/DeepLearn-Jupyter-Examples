
{
 "cells": [
  {
   "cell_type": "code",
   "execution_count": 4,
   "metadata": {},
   "outputs": [],
   "source": [
    "import urllib.request\n",
    "import os\n",
    "import tarfile"
   ]
  },
  {
   "cell_type": "code",
   "execution_count": 5,
   "metadata": {},
   "outputs": [],
   "source": [
    "url = \"http://ai.stanford.edu/~amaas/data/sentiment/aclImdb_v1.tar.gz\"\n",
    "filePath = \"data/aclImdb_v1.tar.gz\"\n",
    "# note: need to create the directory \"data\" by yourself\n",
    "if not os.path.isfile(filePath):\n",
    "    result = urllib.request.urlretrieve(url, filePath)\n",
    "    print('downloaded: ', result)"
   ]
  },
  {
   "cell_type": "code",
   "execution_count": 6,
   "metadata": {},
   "outputs": [],
   "source": [
    "# unzip the tar file\n",
    "if not os.path.exists(\"data/aclImdb\"):\n",
    "    tempTarFile = tarfile.open(\"data/aclImdb_v1.tar.gz\", 'r:gz')\n",
    "    result = tempTarFile.extractall('data/')"
   ]
  },
  {
   "cell_type": "code",
   "execution_count": 7,
   "metadata": {},
   "outputs": [
    {
     "name": "stderr",
     "output_type": "stream",
     "text": [
      "Using TensorFlow backend.\n"
     ]
    }
   ],
   "source": [
    "from keras.preprocessing import sequence\n",
    "from keras.preprocessing.text import Tokenizer"
   ]
  },
  {
   "cell_type": "code",
   "execution_count": 8,
   "metadata": {},
   "outputs": [],
   "source": [
    "# using regular expression (to remove the HTML tag)\n",
    "import re"
   ]
  },
  {
   "cell_type": "code",
   "execution_count": 9,
   "metadata": {},
   "outputs": [],
   "source": [
    "def remove_tags(text):\n",
    "    regular_expression_tag = re.compile(r'<[^>]+>')\n",
    "    return regular_expression_tag.sub('',text) # replace as ''"
   ]
  },
  {
   "cell_type": "code",
   "execution_count": 10,
   "metadata": {},
   "outputs": [],
   "source": [
    "import os\n",
    "\n",
    "# read files (positive or negative)\n",
    "def read_files(file_type):\n",
    "    path = \"data/aclImdb/\"\n",
    "    file_list=[]\n",
    "    \n",
    "    positive_path = path + file_type + \"/pos/\"\n",
    "    for f in os.listdir(positive_path):\n",
    "        file_list = file_list + [positive_path + f] \n",
    "    \n",
    "    negative_path = path + file_type + \"/neg/\"\n",
    "    for f in os.listdir(negative_path):\n",
    "        file_list = file_list + [negative_path + f] \n",
    "        \n",
    "    print('read', file_type, 'files: ', len(file_list) )\n",
    "    \n",
    "    all_labels = ( [1]*12500 + [0]*12500 )\n",
    "    \n",
    "    all_texts = []\n",
    "    \n",
    "    for f in file_list:\n",
    "        with open(f, encoding='utf8') as file_input:\n",
    "            all_texts = all_texts + [ remove_tags(\" \".join(file_input.readlines() ) ) ] #remove html tags\n",
    "    \n",
    "    return all_labels, all_texts"
   ]
  },
  {
   "cell_type": "code",
   "execution_count": 11,
   "metadata": {},
   "outputs": [
    {
     "name": "stdout",
     "output_type": "stream",
     "text": [
      "read train files:  25000\n"
     ]
    }
   ],
   "source": [
    "y_train, x_train_text = read_files(\"train\")"
   ]
  },
  {
   "cell_type": "code",
   "execution_count": 12,
   "metadata": {},
   "outputs": [
    {
     "name": "stdout",
     "output_type": "stream",
     "text": [
      "read test files:  25000\n"
     ]
    }
   ],
   "source": [
    "y_test, x_test_text = read_files(\"test\")"
   ]
  },
  {
   "cell_type": "code",
   "execution_count": 13,
   "metadata": {},
   "outputs": [
    {
     "data": {
      "text/plain": [
       "'Bromwell High is a cartoon comedy. It ran at the same time as some other programs about school life, such as \"Teachers\". My 35 years in the teaching profession lead me to believe that Bromwell High\\'s satire is much closer to reality than is \"Teachers\". The scramble to survive financially, the insightful students who can see right through their pathetic teachers\\' pomp, the pettiness of the whole situation, all remind me of the schools I knew and their students. When I saw the episode in which a student repeatedly tried to burn down the school, I immediately recalled ......... at .......... High. A classic line: INSPECTOR: I\\'m here to sack one of your teachers. STUDENT: Welcome to Bromwell High. I expect that many adults of my age think that Bromwell High is far fetched. What a pity that it isn\\'t!'"
      ]
     },
     "execution_count": 13,
     "metadata": {},
     "output_type": "execute_result"
    }
   ],
   "source": [
    "x_train_text[0]"
   ]
  },
  {
   "cell_type": "code",
   "execution_count": 14,
   "metadata": {},
   "outputs": [
    {
     "data": {
      "text/plain": [
       "1"
      ]
     },
     "execution_count": 14,
     "metadata": {},
     "output_type": "execute_result"
    }
   ],
   "source": [
    "y_train[0]"
   ]
  },
  {
   "cell_type": "code",
   "execution_count": 15,
   "metadata": {},
   "outputs": [
    {
     "data": {
      "text/plain": [
       "\"Story of a man who has unnatural feelings for a pig. Starts out with a opening scene that is a terrific example of absurd comedy. A formal orchestra audience is turned into an insane, violent mob by the crazy chantings of it's singers. Unfortunately it stays absurd the WHOLE time with no general narrative eventually making it just too off putting. Even those from the era should be turned off. The cryptic dialogue would make Shakespeare seem easy to a third grader. On a technical level it's better than you might think with some good cinematography by future great Vilmos Zsigmond. Future stars Sally Kirkland and Frederic Forrest can be seen briefly.\""
      ]
     },
     "execution_count": 15,
     "metadata": {},
     "output_type": "execute_result"
    }
   ],
   "source": [
    "x_train_text[12500]"
   ]
  },
  {
   "cell_type": "code",
   "execution_count": 16,
   "metadata": {},
   "outputs": [
    {
     "data": {
      "text/plain": [
       "0"
      ]
     },
     "execution_count": 16,
     "metadata": {},
     "output_type": "execute_result"
    }
   ],
   "source": [
    "y_train[12500]"
   ]
  },
  {
   "cell_type": "code",
   "execution_count": 17,
   "metadata": {},
   "outputs": [],
   "source": [
    "# Use Tokenizer\n",
    "token = Tokenizer(num_words=2000)\n",
    "token.fit_on_texts(x_train_text)"
   ]
  },
  {
   "cell_type": "code",
   "execution_count": 18,
   "metadata": {},
   "outputs": [
    {
     "name": "stdout",
     "output_type": "stream",
     "text": [
      "25000\n"
     ]
    }
   ],
   "source": [
    "print(token.document_count)"
   ]
  },
  {
   "cell_type": "code",
   "execution_count": 19,
   "metadata": {},
   "outputs": [],
   "source": [
    "# print(token.word_index)"
   ]
  },
  {
   "cell_type": "code",
   "execution_count": 20,
   "metadata": {},
   "outputs": [],
   "source": [
    "# to sequences (list of numbers)\n",
    "x_train_seq = token.texts_to_sequences(x_train_text)\n",
    "x_test_seq = token.texts_to_sequences(x_test_text)"
   ]
  },
  {
   "cell_type": "code",
   "execution_count": 21,
   "metadata": {},
   "outputs": [
    {
     "name": "stdout",
     "output_type": "stream",
     "text": [
      "Bromwell High is a cartoon comedy. It ran at the same time as some other programs about school life, such as \"Teachers\". My 35 years in the teaching profession lead me to believe that Bromwell High's satire is much closer to reality than is \"Teachers\". The scramble to survive financially, the insightful students who can see right through their pathetic teachers' pomp, the pettiness of the whole situation, all remind me of the schools I knew and their students. When I saw the episode in which a student repeatedly tried to burn down the school, I immediately recalled ......... at .......... High. A classic line: INSPECTOR: I'm here to sack one of your teachers. STUDENT: Welcome to Bromwell High. I expect that many adults of my age think that Bromwell High is far fetched. What a pity that it isn't!\n"
     ]
    }
   ],
   "source": [
    "print( x_train_text[0] )"
   ]
  },
  {
   "cell_type": "code",
   "execution_count": 22,
   "metadata": {},
   "outputs": [
    {
     "name": "stdout",
     "output_type": "stream",
     "text": [
      "[308, 6, 3, 1068, 208, 8, 29, 1, 168, 54, 13, 45, 81, 40, 391, 109, 137, 13, 57, 149, 7, 1, 481, 68, 5, 260, 11, 6, 72, 5, 631, 70, 6, 1, 5, 1, 1530, 33, 66, 63, 204, 139, 64, 1229, 1, 4, 1, 222, 899, 28, 68, 4, 1, 9, 693, 2, 64, 1530, 50, 9, 215, 1, 386, 7, 59, 3, 1470, 798, 5, 176, 1, 391, 9, 1235, 29, 308, 3, 352, 343, 142, 129, 5, 27, 4, 125, 1470, 5, 308, 9, 532, 11, 107, 1466, 4, 57, 554, 100, 11, 308, 6, 226, 47, 3, 11, 8, 214]\n"
     ]
    }
   ],
   "source": [
    "print( x_train_seq[0] )"
   ]
  },
  {
   "cell_type": "code",
   "execution_count": 23,
   "metadata": {},
   "outputs": [],
   "source": [
    "x_train_final = sequence.pad_sequences(x_train_seq, maxlen=100 )\n",
    "x_test_final = sequence.pad_sequences(x_test_seq, maxlen=100 )"
   ]
  },
  {
   "cell_type": "code",
   "execution_count": 24,
   "metadata": {},
   "outputs": [
    {
     "name": "stdout",
     "output_type": "stream",
     "text": [
      "before 106\n",
      "[308, 6, 3, 1068, 208, 8, 29, 1, 168, 54, 13, 45, 81, 40, 391, 109, 137, 13, 57, 149, 7, 1, 481, 68, 5, 260, 11, 6, 72, 5, 631, 70, 6, 1, 5, 1, 1530, 33, 66, 63, 204, 139, 64, 1229, 1, 4, 1, 222, 899, 28, 68, 4, 1, 9, 693, 2, 64, 1530, 50, 9, 215, 1, 386, 7, 59, 3, 1470, 798, 5, 176, 1, 391, 9, 1235, 29, 308, 3, 352, 343, 142, 129, 5, 27, 4, 125, 1470, 5, 308, 9, 532, 11, 107, 1466, 4, 57, 554, 100, 11, 308, 6, 226, 47, 3, 11, 8, 214]\n"
     ]
    }
   ],
   "source": [
    "print('before', len(x_train_seq[0]) )\n",
    "print( x_train_seq[0] )"
   ]
  },
  {
   "cell_type": "code",
   "execution_count": 25,
   "metadata": {},
   "outputs": [
    {
     "name": "stdout",
     "output_type": "stream",
     "text": [
      "after 100\n",
      "[  29    1  168   54   13   45   81   40  391  109  137   13   57  149\n",
      "    7    1  481   68    5  260   11    6   72    5  631   70    6    1\n",
      "    5    1 1530   33   66   63  204  139   64 1229    1    4    1  222\n",
      "  899   28   68    4    1    9  693    2   64 1530   50    9  215    1\n",
      "  386    7   59    3 1470  798    5  176    1  391    9 1235   29  308\n",
      "    3  352  343  142  129    5   27    4  125 1470    5  308    9  532\n",
      "   11  107 1466    4   57  554  100   11  308    6  226   47    3   11\n",
      "    8  214]\n"
     ]
    }
   ],
   "source": [
    "print('after', len(x_train_final[0]) )\n",
    "print( x_train_final[0] )"
   ]
  },
  {
   "cell_type": "code",
   "execution_count": 26,
   "metadata": {},
   "outputs": [
    {
     "name": "stdout",
     "output_type": "stream",
     "text": [
      "before 93\n",
      "[61, 4, 3, 128, 33, 43, 1412, 14, 3, 513, 42, 15, 3, 632, 132, 11, 6, 3, 1299, 456, 4, 1753, 208, 3, 307, 6, 675, 79, 31, 1111, 30, 1, 928, 4, 41, 468, 8, 1753, 1, 222, 54, 15, 53, 825, 1317, 846, 227, 8, 39, 95, 121, 1485, 56, 144, 35, 1, 996, 140, 25, 675, 121, 1, 411, 58, 93, 302, 770, 5, 3, 836, 19, 3, 1756, 646, 41, 124, 70, 21, 234, 100, 15, 45, 48, 626, 30, 701, 84, 701, 379, 2, 66, 25, 106]\n"
     ]
    }
   ],
   "source": [
    "print('before', len(x_train_seq[12500]) )\n",
    "print( x_train_seq[12500] )"
   ]
  },
  {
   "cell_type": "code",
   "execution_count": 27,
   "metadata": {},
   "outputs": [
    {
     "name": "stdout",
     "output_type": "stream",
     "text": [
      "after 100\n",
      "[   0    0    0    0    0    0    0   61    4    3  128   33   43 1412\n",
      "   14    3  513   42   15    3  632  132   11    6    3 1299  456    4\n",
      " 1753  208    3  307    6  675   79   31 1111   30    1  928    4   41\n",
      "  468    8 1753    1  222   54   15   53  825 1317  846  227    8   39\n",
      "   95  121 1485   56  144   35    1  996  140   25  675  121    1  411\n",
      "   58   93  302  770    5    3  836   19    3 1756  646   41  124   70\n",
      "   21  234  100   15   45   48  626   30  701   84  701  379    2   66\n",
      "   25  106]\n"
     ]
    }
   ],
   "source": [
    "print('after', len(x_train_final[12500]) )\n",
    "print( x_train_final[12500] )"
   ]
  },
  {
   "cell_type": "code",
   "execution_count": null,
   "metadata": {},
   "outputs": [],
   "source": []
  }
 ],
 "metadata": {
  "kernelspec": {
   "display_name": "Python 3",
   "language": "python",
   "name": "python3"
  },
  "language_info": {
   "codemirror_mode": {
    "name": "ipython",
    "version": 3
   },
   "file_extension": ".py",
   "mimetype": "text/x-python",
   "name": "python",
   "nbconvert_exporter": "python",
   "pygments_lexer": "ipython3",
   "version": "3.6.7"
  }
 },
 "nbformat": 4,
 "nbformat_minor": 2
}