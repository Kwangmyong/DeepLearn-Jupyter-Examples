{
 "cells": [
  {
   "cell_type": "code",
   "execution_count": 1,
   "metadata": {},
   "outputs": [],
   "source": [
    "import pandas as pd"
   ]
  },
  {
   "cell_type": "code",
   "execution_count": 2,
   "metadata": {},
   "outputs": [],
   "source": [
    "import numpy as np\n",
    "np.random.seed(10)"
   ]
  },
  {
   "cell_type": "code",
   "execution_count": 3,
   "metadata": {},
   "outputs": [
    {
     "name": "stderr",
     "output_type": "stream",
     "text": [
      "Using TensorFlow backend.\n"
     ]
    }
   ],
   "source": [
    "from keras.utils import np_utils"
   ]
  },
  {
   "cell_type": "code",
   "execution_count": 4,
   "metadata": {},
   "outputs": [],
   "source": [
    "from keras.datasets import mnist"
   ]
  },
  {
   "cell_type": "code",
   "execution_count": 5,
   "metadata": {},
   "outputs": [],
   "source": [
    "(x_train_image, y_train_label), (x_test_image, y_test_label) = mnist.load_data()"
   ]
  },
  {
   "cell_type": "code",
   "execution_count": 6,
   "metadata": {},
   "outputs": [
    {
     "name": "stdout",
     "output_type": "stream",
     "text": [
      "number of train data= 60000\n",
      "number of test data= 10000\n"
     ]
    }
   ],
   "source": [
    "print('number of train data=', len(x_train_image))\n",
    "print('number of test data=', len(x_test_image))"
   ]
  },
  {
   "cell_type": "code",
   "execution_count": 7,
   "metadata": {},
   "outputs": [
    {
     "name": "stdout",
     "output_type": "stream",
     "text": [
      "shape of train image= (60000, 28, 28)\n",
      "shape of train label= (60000,)\n",
      "shape of test image= (60000, 28, 28)\n",
      "shape of test label= (10000,)\n"
     ]
    }
   ],
   "source": [
    "print('shape of train image=', x_train_image.shape)\n",
    "print('shape of train label=', y_train_label.shape)\n",
    "print('shape of test image=', x_train_image.shape)\n",
    "print('shape of test label=', y_test_label.shape)"
   ]
  },
  {
   "cell_type": "code",
   "execution_count": 8,
   "metadata": {},
   "outputs": [],
   "source": [
    "import matplotlib.pyplot as pyplot\n",
    "def my_plot_image(input_image):\n",
    "    fig = pyplot.gcf()\n",
    "    fig.set_size_inches(2,2)\n",
    "    pyplot.imshow(input_image, cmap='binary')\n",
    "    pyplot.show()"
   ]
  },
  {
   "cell_type": "code",
   "execution_count": 9,
   "metadata": {},
   "outputs": [
    {
     "data": {
      "image/png": "iVBORw0KGgoAAAANSUhEUgAAAJIAAACPCAYAAAARM4LLAAAABHNCSVQICAgIfAhkiAAAAAlwSFlzAAALEgAACxIB0t1+/AAAADl0RVh0U29mdHdhcmUAbWF0cGxvdGxpYiB2ZXJzaW9uIDMuMC4yLCBodHRwOi8vbWF0cGxvdGxpYi5vcmcvOIA7rQAACHZJREFUeJzt3V1oVOkZB/D/Y/y2fqWxJWaDWVSkoeAHsbZYNCp+dEGDF4WoaJWFeuFHCwZr6oVeeLEo9ELjzWIlFWtKsYZdy0LQxVyIRZJgsEk1qxbjhvVrEbXoha68vZhxOs9pkjmZ8+R8ZP4/CHP+50zmvJCHM++cM3mOOOdAFNSoqAdAIwMLiUywkMgEC4lMsJDIBAuJTLCQyAQLiUwEKiQRWSciPSJyV0QOWA2KkkfyPbMtIkUAvgKwGkAfgDYAm5xz/xrod0pKSlxFRUVe+6NodHR0fOucm5HreaMD7OMnAO465/4NACLyFwA1AAYspIqKCrS3twfYJYVNRHr9PC/IW1sZgK+zcl96nXcgvxaRdhFpf/r0aYDdUZwFKSTpZ93/vU865z51zlU556pmzMh5hKSEClJIfQDKs/IHAL4JNhxKqiCF1AZgroh8KCJjAdQC+NxmWJQ0eU+2nXPfichuAC0AigCcds51m42MEiXIpzY4574A8IXRWCjBeGabTLCQyAQLiUywkMgEC4lMsJDIBAuJTLCQyAQLiUywkMgEC4lMBLrWVkjevXun8osXL3z/bkNDg8qvX79WuaenR+WTJ0+qXFdXp3JTU5PK48ePV/nAgf99ff7QoUO+xxkEj0hkgoVEJlhIZKJg5kgPHjxQ+c2bNypfu3ZN5atXr6r8/Plzlc+fP282tvLycpX37NmjcnNzs8qTJ09Wef78+SovX77cbGx+8YhEJlhIZIKFRCZG7Bzpxo0bKq9cuVLloZwHslZUVKTykSNHVJ40aZLKW7ZsUXnmzJkqT58+XeV58+YFHeKQ8YhEJlhIZIKFRCZG7Bxp1qxZKpeUlKhsOUdasmSJyt45y5UrV1QeO3asylu3bjUbS1R4RCITLCQywUIiEyN2jlRcXKzysWPHVL548aLKCxcuVHnv3r2Dvv6CBQsyy5cvX1bbvOeBurq6VD5+/Pigr51EPCKRiZyFJCKnReSJiHRlrSsWkUsicif9OH2w16CRz88RqRHAOs+6AwC+dM7NBfBlOlMB89UeWUQqAPzdOffjdO4BUO2ceygipQBanXM5L/BUVVW5uHS1ffnypcre7/js3LlT5VOnTql89uzZzPLmzZuNRxcfItLhnKvK9bx850g/dM49BID04w/yfB0aIYZ9ss32yIUh30J6nH5LQ/rxyUBPZHvkwpDveaTPAfwKwCfpx8/MRhSSKVOmDLp96tSpg27PnjPV1taqbaNGFd5ZFT8f/5sA/APAPBHpE5GPkSqg1SJyB6l7kXwyvMOkuMt5RHLObRpg0yrjsVCCFd4xmIbFiL3WFtThw4dV7ujoULm1tTWz7L3WtmbNmuEaVmzxiEQmWEhkgoVEJvK+FWk+4nStbaju3bun8qJFizLL06ZNU9tWrFihclWVvlS1a9culUX6u/VdPAz3tTYihYVEJvjx36fZs2er3NjYmFnesWOH2nbmzJlB86tXr1Tetm2byqWlpfkOMzI8IpEJFhKZYCGRCc6R8rRx48bM8pw5c9S2ffv2qey9hFJfX69yb2+vygcPHlS5rKws73GGhUckM