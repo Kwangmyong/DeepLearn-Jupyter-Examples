{
 "cells": [
  {
   "cell_type": "code",
   "execution_count": 1,
   "metadata": {},
   "outputs": [],
   "source": [
    "import pandas as pd"
   ]
  },
  {
   "cell_type": "code",
   "execution_count": 2,
   "metadata": {},
   "outputs": [],
   "source": [
    "import numpy as np\n",
    "np.random.seed(10)"
   ]
  },
  {
   "cell_type": "code",
   "execution_count": 3,
   "metadata": {},
   "outputs": [
    {
     "name": "stderr",
     "output_type": "stream",
     "text": [
      "Using TensorFlow backend.\n"
     ]
    }
   ],
   "source": [
    "from keras.utils import np_utils"
   ]
  },
  {
   "cell_type": "code",
   "execution_count": 4,
   "metadata": {},
   "outputs": [],
   "source": [
    "from keras.datasets import mnist"
   ]
  },
  {
   "cell_type": "code",
   "execution_count": 5,
   "metadata": {},
   "outputs": [],
   "source": [
    "(x_train_image, y_train_label), (x_test_image, y_test_label) = mnist.load_data()"
   ]
  },
  {
   "cell_type": "code",
   "execution_count": 6,
   "metadata": {},
   "outputs": [
    {
     "name": "stdout",
     "output_type": "stream",
     "text": [
      "number of train data= 60000\n",
      "number of test data= 10000\n"
     ]
    }
   ],
   "source": [
    "print('number of train data=', len(x_train_image))\n",
    "print('number of test data=', len(x_test_image))"
   ]
  },
  {
   "cell_type": "code",
   "execution_count": 7,
   "metadata": {},
   "outputs": [
    {
     "name": "stdout",
     "output_type": "stream",
     "text": [
      "shape of train image= (60000, 28, 28)\n",
      "shape of train label= (60000,)\n",
      "shape of test image= (60000, 28, 28)\n",
      "shape of test label= (10000,)\n"
     ]
    }
   ],
   "source": [
    "print('shape of train image=', x_train_image.shape)\n",
    "print('shape of train label=', y_train_label.shape)\n",
    "print('shape of test image=', x_train_image.shape)\n",
    "print('shape of test label=', y_test_label.shape)"
   ]
  },
  {
   "cell_type": "code",
   "execution_count": 8,
   "metadata": {},
   "outputs": [],
   "source": [
    "import matplotlib.pyplot as pyplot\n",
    "def my_plot_image(input_image):\n",
    "    fig = pyplot.gcf()\n",
    "    fig.set_size_inches(2,2)\n",
    "    pyplot.imshow(input_image, cmap='binary')\n",
    "    pyplot.show()"
   ]
  },
  {
   "cell_type": "code",
   "execution_count": 9,
   "metadata": {},
   "outputs": [
    {
     "data": {
      "image/png": "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\n",
      "text/plain": [
       "<Figure size 144x144 with 1 Axes>"
      ]
     },
     "metadata": {
      "needs_background": "light"
     },
     "output_type": "display_data"
    },
    {
     "data": {
      "image/png": "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\n",
      "text/plain": [
       "<Figure size 144x144 with 1 Axes>"
      ]
     },
     "metadata": {
      "needs_background": "light"
     },
     "output_type": "display_data"
    }
   ],
   "source": [
    "my_plot_image(x_train_image[0])\n",
    "my_plot_image(x_train_image[1])\n",
    "# my_plot_image(x_train_image[2])"
   ]
  },
  {
   "cell_type": "code",
   "execution_count": 10,
   "metadata": {},
   "outputs": [
    {
     "name": "stdout",
     "output_type": "stream",
     "text": [
      "5\n",
      "0\n"
     ]
    }
   ],
   "source": [
    "print(y_train_label[0])\n",
    "print(y_train_label[1])\n",
    "# print(y_train_label[2])"
   ]
  },
  {
   "cell_type": "code",
   "execution_count": 11,
   "metadata": {},
   "outputs": [],
   "source": [
    "import matplotlib.pyplot as pyplot\n",
    "def my_plot_images_labels_prediction(input_images, input_labels, inpu